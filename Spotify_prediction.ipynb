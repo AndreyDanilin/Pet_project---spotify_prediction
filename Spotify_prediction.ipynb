{
 "nbformat": 4,
 "nbformat_minor": 0,
 "metadata": {
  "colab": {
   "name": "Predicting Hits on Spotify.ipynb",
   "provenance": [],
   "collapsed_sections": [],
   "include_colab_link": true
  },
  "kernelspec": {
   "name": "python3",
   "display_name": "Python 3"
  },
  "language_info": {
   "name": "python"
  }
 },
 "cells": [
  {
   "cell_type": "code",
   "metadata": {
    "id": "sJVAFAqsVHgS",
    "ExecuteTime": {
     "end_time": "2025-05-14T17:10:12.555440Z",
     "start_time": "2025-05-14T17:10:10.393205Z"
    }
   },
   "source": [
    "import pandas as pd\n",
    "import numpy as np\n",
    "import seaborn as sns\n",
    "import matplotlib.pyplot as plt\n",
    "\n",
    "import torch\n",
    "from torch import nn\n",
    "import torch.optim as optim\n",
    "from torch.utils.data import TensorDataset, DataLoader\n",
    "\n",
    "import xgboost as xgb\n",
    "import optuna\n",
    "from catboost import CatBoostClassifier\n",
    "\n",
    "from sklearn.preprocessing import StandardScaler\n",
    "from sklearn.linear_model import LogisticRegression\n",
    "from sklearn.neighbors import KNeighborsClassifier\n",
    "from sklearn.tree import DecisionTreeClassifier\n",
    "from sklearn.svm import LinearSVC, SVC\n",
    "from sklearn.neural_network import MLPClassifier\n",
    "from sklearn.ensemble import RandomForestClassifier, GradientBoostingClassifier\n",
    "from sklearn.model_selection import train_test_split\n",
    "from sklearn import svm\n",
    "from sklearn.model_selection import cross_val_score\n",
    "from sklearn.metrics import f1_score, accuracy_score\n",
    "\n",
    "import warnings\n",
    "with warnings.catch_warnings():\n",
    "    warnings.simplefilter(\"ignore\")\n",
    "RANDOM_STATE = 21\n",
    "torch.manual_seed(21)\n",
    "device = \"cuda\" if torch.cuda.is_available() else \"cpu\"\n",
    "device"
   ],
   "outputs": [
    {
     "name": "stderr",
     "output_type": "stream",
     "text": [
      "C:\\Users\\lambe\\miniconda3\\Lib\\site-packages\\tqdm\\auto.py:21: TqdmWarning: IProgress not found. Please update jupyter and ipywidgets. See https://ipywidgets.readthedocs.io/en/stable/user_install.html\n",
      "  from .autonotebook import tqdm as notebook_tqdm\n"
     ]
    },
    {
     "data": {
      "text/plain": [
       "'cuda'"
      ]
     },
     "execution_count": 1,
     "metadata": {},
     "output_type": "execute_result"
    }
   ],
   "execution_count": 1
  },
  {
   "cell_type": "markdown",
   "source": [
    "# Data Collection"
   ],
   "metadata": {
    "id": "ZFhTwgRq4po-"
   }
  },
  {
   "metadata": {},
   "cell_type": "markdown",
   "source": "Considering that music preferences have changed over the years, I assumed that the decade in which the song was released was a sign worthy of attention"
  },
  {
   "cell_type": "code",
   "source": [
    "df_60 = pd.read_csv(\"data/dataset-of-60s.csv\")\n",
    "df_60['decade_of_release'] = '60'\n",
    "df_70 = pd.read_csv(\"data/dataset-of-70s.csv\")\n",
    "df_70['decade_of_release'] = '70'\n",
    "df_80 = pd.read_csv(\"data/dataset-of-80s.csv\")\n",
    "df_80['decade_of_release'] = '80'\n",
    "df_90 = pd.read_csv(\"data/dataset-of-90s.csv\")\n",
    "df_90['decade_of_release'] = '90'\n",
    "df_00 = pd.read_csv(\"data/dataset-of-00s.csv\")\n",
    "df_00['decade_of_release'] = '00'\n",
    "df_10 = pd.read_csv(\"data/dataset-of-10s.csv\")\n",
    "df_10['decade_of_release'] = '10'\n",
    "df = pd.concat([df_00, df_10, df_60, df_70, df_80, df_90])\n",
    "df.head()"
   ],
   "metadata": {
    "id": "_Eu6BrGJatgo",
    "colab": {
     "base_uri": "https://localhost:8080/",
     "height": 409
    },
    "outputId": "fda70e6d-8906-4e48-cda9-46f8158e1dfe",
    "ExecuteTime": {
     "end_time": "2025-05-14T17:10:12.815141Z",
     "start_time": "2025-05-14T17:10:12.701025Z"
    }
   },
   "outputs": [
    {
     "data": {
      "text/plain": [
       "                      track             artist  \\\n",
       "0                 Lucky Man  Montgomery Gentry   \n",
       "1            On The Hotline       Pretty Ricky   \n",
       "2        Clouds Of Dementia         Candlemass   \n",
       "3  Heavy Metal, Raise Hell!      Zwartketterij   \n",
       "4           I Got A Feelin'   Billy Currington   \n",
       "\n",
       "                                    uri  danceability  energy  key  loudness  \\\n",
       "0  spotify:track:4GiXBCUF7H6YfNQsnBRIzl         0.578   0.471    4    -7.270   \n",
       "1  spotify:track:1zyqZONW985Cs4osz9wlsu         0.704   0.854   10    -5.477   \n",
       "2  spotify:track:6cHZf7RbxXCKwEkgAZT4mY         0.162   0.836    9    -3.009   \n",
       "3  spotify:track:2IjBPp2vMeX7LggzRN3iSX         0.188   0.994    4    -3.745   \n",
       "4  spotify:track:1tF370eYXUcWwkIvaq3IGz         0.630   0.764    2    -4.353   \n",
       "\n",
       "   mode  speechiness  acousticness  instrumentalness  liveness  valence  \\\n",
       "0     1       0.0289      0.368000           0.00000     0.159    0.532   \n",
       "1     0       0.1830      0.018500           0.00000     0.148    0.688   \n",
       "2     1       0.0473      0.000111           0.00457     0.174    0.300   \n",
       "3     1       0.1660      0.000007           0.07840     0.192    0.333   \n",
       "4     1       0.0275      0.363000           0.00000     0.125    0.631   \n",
       "\n",
       "     tempo  duration_ms  time_signature  chorus_hit  sections  target  \\\n",
       "0  133.061       196707               4    30.88059        13       1   \n",
       "1   92.988       242587               4    41.51106        10       1   \n",
       "2   86.964       338893               4    65.32887        13       0   \n",
       "3  148.440       255667               4    58.59528         9       0   \n",
       "4  112.098       193760               4    22.62384        10       1   \n",
       "\n",
       "  decade_of_release  \n",
       "0                00  \n",
       "1                00  \n",
       "2                00  \n",
       "3                00  \n",
       "4                00  "
      ],
      "text/html": [
       "<div>\n",
       "<style scoped>\n",
       "    .dataframe tbody tr th:only-of-type {\n",
       "        vertical-align: middle;\n",
       "    }\n",
       "\n",
       "    .dataframe tbody tr th {\n",
       "        vertical-align: top;\n",
       "    }\n",
       "\n",
       "    .dataframe thead th {\n",
       "        text-align: right;\n",
       "    }\n",
       "</style>\n",
       "<table border=\"1\" class=\"dataframe\">\n",
       "  <thead>\n",
       "    <tr style=\"text-align: right;\">\n",
       "      <th></th>\n",
       "      <th>track</th>\n",
       "      <th>artist</th>\n",
       "      <th>uri</th>\n",
       "      <th>danceability</th>\n",
       "      <th>energy</th>\n",
       "      <th>key</th>\n",
       "      <th>loudness</th>\n",
       "      <th>mode</th>\n",
       "      <th>speechiness</th>\n",
       "      <th>acousticness</th>\n",
       "      <th>instrumentalness</th>\n",
       "      <th>liveness</th>\n",
       "      <th>valence</th>\n",
       "      <th>tempo</th>\n",
       "      <th>duration_ms</th>\n",
       "      <th>time_signature</th>\n",
       "      <th>chorus_hit</th>\n",
       "      <th>sections</th>\n",
       "      <th>target</th>\n",
       "      <th>decade_of_release</th>\n",
       "    </tr>\n",
       "  </thead>\n",
       "  <tbody>\n",
       "    <tr>\n",
       "      <th>0</th>\n",
       "      <td>Lucky Man</td>\n",
       "      <td>Montgomery Gentry</td>\n",
       "      <td>spotify:track:4GiXBCUF7H6YfNQsnBRIzl</td>\n",
       "      <td>0.578</td>\n",
       "      <td>0.471</td>\n",
       "      <td>4</td>\n",
       "      <td>-7.270</td>\n",
       "      <td>1</td>\n",
       "      <td>0.0289</td>\n",
       "      <td>0.368000</td>\n",
       "      <td>0.00000</td>\n",
       "      <td>0.159</td>\n",
       "      <td>0.532</td>\n",
       "      <td>133.061</td>\n",
       "      <td>196707</td>\n",
       "      <td>4</td>\n",
       "      <td>30.88059</td>\n",
       "      <td>13</td>\n",
       "      <td>1</td>\n",
       "      <td>00</td>\n",
       "    </tr>\n",
       "    <tr>\n",
       "      <th>1</th>\n",
       "      <td>On The Hotline</td>\n",
       "      <td>Pretty Ricky</td>\n",
       "      <td>spotify:track:1zyqZONW985Cs4osz9wlsu</td>\n",
       "      <td>0.704</td>\n",
       "      <td>0.854</td>\n",
       "      <td>10</td>\n",
       "      <td>-5.477</td>\n",
       "      <td>0</td>\n",
       "      <td>0.1830</td>\n",
       "      <td>0.018500</td>\n",
       "      <td>0.00000</td>\n",
       "      <td>0.148</td>\n",
       "      <td>0.688</td>\n",
       "      <td>92.988</td>\n",
       "      <td>242587</td>\n",
       "      <td>4</td>\n",
       "      <td>41.51106</td>\n",
       "      <td>10</td>\n",
       "      <td>1</td>\n",
       "      <td>00</td>\n",
       "    </tr>\n",
       "    <tr>\n",
       "      <th>2</th>\n",
       "      <td>Clouds Of Dementia</td>\n",
       "      <td>Candlemass</td>\n",
       "      <td>spotify:track:6cHZf7RbxXCKwEkgAZT4mY</td>\n",
       "      <td>0.162</td>\n",
       "      <td>0.836</td>\n",
       "      <td>9</td>\n",
       "      <td>-3.009</td>\n",
       "      <td>1</td>\n",
       "      <td>0.0473</td>\n",
       "      <td>0.000111</td>\n",
       "      <td>0.00457</td>\n",
       "      <td>0.174</td>\n",
       "      <td>0.300</td>\n",
       "      <td>86.964</td>\n",
       "      <td>338893</td>\n",
       "      <td>4</td>\n",
       "      <td>65.32887</td>\n",
       "      <td>13</td>\n",
       "      <td>0</td>\n",
       "      <td>00</td>\n",
       "    </tr>\n",
       "    <tr>\n",
       "      <th>3</th>\n",
       "      <td>Heavy Metal, Raise Hell!</td>\n",
       "      <td>Zwartketterij</td>\n",
       "      <td>spotify:track:2IjBPp2vMeX7LggzRN3iSX</td>\n",
       "      <td>0.188</td>\n",
       "      <td>0.994</td>\n",
       "      <td>4</td>\n",
       "      <td>-3.745</td>\n",
       "      <td>1</td>\n",
       "      <td>0.1660</td>\n",
       "      <td>0.000007</td>\n",
       "      <td>0.07840</td>\n",
       "      <td>0.192</td>\n",
       "      <td>0.333</td>\n",
       "      <td>148.440</td>\n",
       "      <td>255667</td>\n",
       "      <td>4</td>\n",
       "      <td>58.59528</td>\n",
       "      <td>9</td>\n",
       "      <td>0</td>\n",
       "      <td>00</td>\n",
       "    </tr>\n",
       "    <tr>\n",
       "      <th>4</th>\n",
       "      <td>I Got A Feelin'</td>\n",
       "      <td>Billy Currington</td>\n",
       "      <td>spotify:track:1tF370eYXUcWwkIvaq3IGz</td>\n",
       "      <td>0.630</td>\n",
       "      <td>0.764</td>\n",
       "      <td>2</td>\n",
       "      <td>-4.353</td>\n",
       "      <td>1</td>\n",
       "      <td>0.0275</td>\n",
       "      <td>0.363000</td>\n",
       "      <td>0.00000</td>\n",
       "      <td>0.125</td>\n",
       "      <td>0.631</td>\n",
       "      <td>112.098</td>\n",
       "      <td>193760</td>\n",
       "      <td>4</td>\n",
       "      <td>22.62384</td>\n",
       "      <td>10</td>\n",
       "      <td>1</td>\n",
       "      <td>00</td>\n",
       "    </tr>\n",
       "  </tbody>\n",
       "</table>\n",
       "</div>"
      ]
     },
     "execution_count": 2,
     "metadata": {},
     "output_type": "execute_result"
    }
   ],
   "execution_count": 2
  },
  {
   "cell_type": "markdown",
   "source": [
    "# Preprocessing"
   ],
   "metadata": {
    "id": "UabFu0Pw6n-b"
   }
  },
  {
   "cell_type": "markdown",
   "source": [
    "Finding the number of rows and columns"
   ],
   "metadata": {
    "id": "HkjFsHn56e-L"
   }
  },
  {
   "cell_type": "code",
   "source": [
    "df.shape"
   ],
   "metadata": {
    "id": "5ID6Qjz16TGL",
    "colab": {
     "base_uri": "https://localhost:8080/"
    },
    "outputId": "2615fc50-e5d6-4202-98d5-65d9dfa73297",
    "ExecuteTime": {
     "end_time": "2025-05-14T17:10:12.887666Z",
     "start_time": "2025-05-14T17:10:12.883574Z"
    }
   },
   "outputs": [
    {
     "data": {
      "text/plain": [
       "(41106, 20)"
      ]
     },
     "execution_count": 3,
     "metadata": {},
     "output_type": "execute_result"
    }
   ],
   "execution_count": 3
  },
  {
   "cell_type": "markdown",
   "source": [
    "Exploring data types and checking for nulls"
   ],
   "metadata": {
    "id": "p0TkXcOp6iwa"
   }
  },
  {
   "cell_type": "code",
   "source": [
    "df.info()"
   ],
   "metadata": {
    "id": "dK4wU1t9ck5Z",
    "colab": {
     "base_uri": "https://localhost:8080/"
    },
    "outputId": "0c145b36-f528-4abc-87c7-2de4a0b4532c",
    "ExecuteTime": {
     "end_time": "2025-05-14T17:10:12.997331Z",
     "start_time": "2025-05-14T17:10:12.983007Z"
    }
   },
   "outputs": [
    {
     "name": "stdout",
     "output_type": "stream",
     "text": [
      "<class 'pandas.core.frame.DataFrame'>\n",
      "Index: 41106 entries, 0 to 5519\n",
      "Data columns (total 20 columns):\n",
      " #   Column             Non-Null Count  Dtype  \n",
      "---  ------             --------------  -----  \n",
      " 0   track              41106 non-null  object \n",
      " 1   artist             41106 non-null  object \n",
      " 2   uri                41106 non-null  object \n",
      " 3   danceability       41106 non-null  float64\n",
      " 4   energy             41106 non-null  float64\n",
      " 5   key                41106 non-null  int64  \n",
      " 6   loudness           41106 non-null  float64\n",
      " 7   mode               41106 non-null  int64  \n",
      " 8   speechiness        41106 non-null  float64\n",
      " 9   acousticness       41106 non-null  float64\n",
      " 10  instrumentalness   41106 non-null  float64\n",
      " 11  liveness           41106 non-null  float64\n",
      " 12  valence            41106 non-null  float64\n",
      " 13  tempo              41106 non-null  float64\n",
      " 14  duration_ms        41106 non-null  int64  \n",
      " 15  time_signature     41106 non-null  int64  \n",
      " 16  chorus_hit         41106 non-null  float64\n",
      " 17  sections           41106 non-null  int64  \n",
      " 18  target             41106 non-null  int64  \n",
      " 19  decade_of_release  41106 non-null  object \n",
      "dtypes: float64(10), int64(6), object(4)\n",
      "memory usage: 6.6+ MB\n"
     ]
    }
   ],
   "execution_count": 4
  },
  {
   "cell_type": "markdown",
   "source": [
    "Checking for nulls again. Making doubly sure"
   ],
   "metadata": {
    "id": "sqHgdlUf6zB4"
   }
  },
  {
   "cell_type": "code",
   "source": [
    "df.isnull().sum()"
   ],
   "metadata": {
    "id": "SL7OQreU6vgD",
    "colab": {
     "base_uri": "https://localhost:8080/"
    },
    "outputId": "46762202-1ada-49ff-ad4f-1282c6f5dab2",
    "ExecuteTime": {
     "end_time": "2025-05-14T17:10:13.070703Z",
     "start_time": "2025-05-14T17:10:13.059735Z"
    }
   },
   "outputs": [
    {
     "data": {
      "text/plain": [
       "track                0\n",
       "artist               0\n",
       "uri                  0\n",
       "danceability         0\n",
       "energy               0\n",
       "key                  0\n",
       "loudness             0\n",
       "mode                 0\n",
       "speechiness          0\n",
       "acousticness         0\n",
       "instrumentalness     0\n",
       "liveness             0\n",
       "valence              0\n",
       "tempo                0\n",
       "duration_ms          0\n",
       "time_signature       0\n",
       "chorus_hit           0\n",
       "sections             0\n",
       "target               0\n",
       "decade_of_release    0\n",
       "dtype: int64"
      ]
     },
     "execution_count": 5,
     "metadata": {},
     "output_type": "execute_result"
    }
   ],
   "execution_count": 5
  },
  {
   "cell_type": "markdown",
   "source": [
    "We can see that there are no null values in the dataset. Taking the rough statistics of the data."
   ],
   "metadata": {
    "id": "uy2WDLw44ZrR"
   }
  },
  {
   "cell_type": "code",
   "source": [
    "df.describe()"
   ],
   "metadata": {
    "colab": {
     "base_uri": "https://localhost:8080/",
     "height": 364
    },
    "id": "ou4-vQYsjllp",
    "outputId": "55322fe1-96bf-4089-b7a2-396c3a2617da",
    "ExecuteTime": {
     "end_time": "2025-05-14T17:10:13.185604Z",
     "start_time": "2025-05-14T17:10:13.141056Z"
    }
   },
   "outputs": [
    {
     "data": {
      "text/plain": [
       "       danceability        energy           key      loudness          mode  \\\n",
       "count  41106.000000  41106.000000  41106.000000  41106.000000  41106.000000   \n",
       "mean       0.539695      0.579545      5.213594    -10.221525      0.693354   \n",
       "std        0.177821      0.252628      3.534977      5.311626      0.461107   \n",
       "min        0.000000      0.000251      0.000000    -49.253000      0.000000   \n",
       "25%        0.420000      0.396000      2.000000    -12.816000      0.000000   \n",
       "50%        0.552000      0.601000      5.000000     -9.257000      1.000000   \n",
       "75%        0.669000      0.787000      8.000000     -6.374250      1.000000   \n",
       "max        0.988000      1.000000     11.000000      3.744000      1.000000   \n",
       "\n",
       "        speechiness  acousticness  instrumentalness      liveness  \\\n",
       "count  41106.000000  41106.000000      41106.000000  41106.000000   \n",
       "mean       0.072960      0.364197          0.154416      0.201535   \n",
       "std        0.086112      0.338913          0.303530      0.172959   \n",
       "min        0.000000      0.000000          0.000000      0.013000   \n",
       "25%        0.033700      0.039400          0.000000      0.094000   \n",
       "50%        0.043400      0.258000          0.000120      0.132000   \n",
       "75%        0.069800      0.676000          0.061250      0.261000   \n",
       "max        0.960000      0.996000          1.000000      0.999000   \n",
       "\n",
       "            valence         tempo   duration_ms  time_signature    chorus_hit  \\\n",
       "count  41106.000000  41106.000000  4.110600e+04    41106.000000  41106.000000   \n",
       "mean       0.542440    119.338249  2.348776e+05        3.893689     40.106041   \n",
       "std        0.267329     29.098845  1.189674e+05        0.423073     19.005515   \n",
       "min        0.000000      0.000000  1.516800e+04        0.000000      0.000000   \n",
       "25%        0.330000     97.397000  1.729278e+05        4.000000     27.599792   \n",
       "50%        0.558000    117.565000  2.179070e+05        4.000000     35.850795   \n",
       "75%        0.768000    136.494000  2.667730e+05        4.000000     47.625615   \n",
       "max        0.996000    241.423000  4.170227e+06        5.000000    433.182000   \n",
       "\n",
       "           sections        target  \n",
       "count  41106.000000  41106.000000  \n",
       "mean      10.475673      0.500000  \n",
       "std        4.871850      0.500006  \n",
       "min        0.000000      0.000000  \n",
       "25%        8.000000      0.000000  \n",
       "50%       10.000000      0.500000  \n",
       "75%       12.000000      1.000000  \n",
       "max      169.000000      1.000000  "
      ],
      "text/html": [
       "<div>\n",
       "<style scoped>\n",
       "    .dataframe tbody tr th:only-of-type {\n",
       "        vertical-align: middle;\n",
       "    }\n",
       "\n",
       "    .dataframe tbody tr th {\n",
       "        vertical-align: top;\n",
       "    }\n",
       "\n",
       "    .dataframe thead th {\n",
       "        text-align: right;\n",
       "    }\n",
       "</style>\n",
       "<table border=\"1\" class=\"dataframe\">\n",
       "  <thead>\n",
       "    <tr style=\"text-align: right;\">\n",
       "      <th></th>\n",
       "      <th>danceability</th>\n",
       "      <th>energy</th>\n",
       "      <th>key</th>\n",
       "      <th>loudness</th>\n",
       "      <th>mode</th>\n",
       "      <th>speechiness</th>\n",
       "      <th>acousticness</th>\n",
       "      <th>instrumentalness</th>\n",
       "      <th>liveness</th>\n",
       "      <th>valence</th>\n",
       "      <th>tempo</th>\n",
       "      <th>duration_ms</th>\n",
       "      <th>time_signature</th>\n",
       "      <th>chorus_hit</th>\n",
       "      <th>sections</th>\n",
       "      <th>target</th>\n",
       "    </tr>\n",
       "  </thead>\n",
       "  <tbody>\n",
       "    <tr>\n",
       "      <th>count</th>\n",
       "      <td>41106.000000</td>\n",
       "      <td>41106.000000</td>\n",
       "      <td>41106.000000</td>\n",
       "      <td>41106.000000</td>\n",
       "      <td>41106.000000</td>\n",
       "      <td>41106.000000</td>\n",
       "      <td>41106.000000</td>\n",
       "      <td>41106.000000</td>\n",
       "      <td>41106.000000</td>\n",
       "      <td>41106.000000</td>\n",
       "      <td>41106.000000</td>\n",
       "      <td>4.110600e+04</td>\n",
       "      <td>41106.000000</td>\n",
       "      <td>41106.000000</td>\n",
       "      <td>41106.000000</td>\n",
       "      <td>41106.000000</td>\n",
       "    </tr>\n",
       "    <tr>\n",
       "      <th>mean</th>\n",
       "      <td>0.539695</td>\n",
       "      <td>0.579545</td>\n",
       "      <td>5.213594</td>\n",
       "      <td>-10.221525</td>\n",
       "      <td>0.693354</td>\n",
       "      <td>0.072960</td>\n",
       "      <td>0.364197</td>\n",
       "      <td>0.154416</td>\n",
       "      <td>0.201535</td>\n",
       "      <td>0.542440</td>\n",
       "      <td>119.338249</td>\n",
       "      <td>2.348776e+05</td>\n",
       "      <td>3.893689</td>\n",
       "      <td>40.106041</td>\n",
       "      <td>10.475673</td>\n",
       "      <td>0.500000</td>\n",
       "    </tr>\n",
       "    <tr>\n",
       "      <th>std</th>\n",
       "      <td>0.177821</td>\n",
       "      <td>0.252628</td>\n",
       "      <td>3.534977</td>\n",
       "      <td>5.311626</td>\n",
       "      <td>0.461107</td>\n",
       "      <td>0.086112</td>\n",
       "      <td>0.338913</td>\n",
       "      <td>0.303530</td>\n",
       "      <td>0.172959</td>\n",
       "      <td>0.267329</td>\n",
       "      <td>29.098845</td>\n",
       "      <td>1.189674e+05</td>\n",
       "      <td>0.423073</td>\n",
       "      <td>19.005515</td>\n",
       "      <td>4.871850</td>\n",
       "      <td>0.500006</td>\n",
       "    </tr>\n",
       "    <tr>\n",
       "      <th>min</th>\n",
       "      <td>0.000000</td>\n",
       "      <td>0.000251</td>\n",
       "      <td>0.000000</td>\n",
       "      <td>-49.253000</td>\n",
       "      <td>0.000000</td>\n",
       "      <td>0.000000</td>\n",
       "      <td>0.000000</td>\n",
       "      <td>0.000000</td>\n",
       "      <td>0.013000</td>\n",
       "      <td>0.000000</td>\n",
       "      <td>0.000000</td>\n",
       "      <td>1.516800e+04</td>\n",
       "      <td>0.000000</td>\n",
       "      <td>0.000000</td>\n",
       "      <td>0.000000</td>\n",
       "      <td>0.000000</td>\n",
       "    </tr>\n",
       "    <tr>\n",
       "      <th>25%</th>\n",
       "      <td>0.420000</td>\n",
       "      <td>0.396000</td>\n",
       "      <td>2.000000</td>\n",
       "      <td>-12.816000</td>\n",
       "      <td>0.000000</td>\n",
       "      <td>0.033700</td>\n",
       "      <td>0.039400</td>\n",
       "      <td>0.000000</td>\n",
       "      <td>0.094000</td>\n",
       "      <td>0.330000</td>\n",
       "      <td>97.397000</td>\n",
       "      <td>1.729278e+05</td>\n",
       "      <td>4.000000</td>\n",
       "      <td>27.599792</td>\n",
       "      <td>8.000000</td>\n",
       "      <td>0.000000</td>\n",
       "    </tr>\n",
       "    <tr>\n",
       "      <th>50%</th>\n",
       "      <td>0.552000</td>\n",
       "      <td>0.601000</td>\n",
       "      <td>5.000000</td>\n",
       "      <td>-9.257000</td>\n",
       "      <td>1.000000</td>\n",
       "      <td>0.043400</td>\n",
       "      <td>0.258000</td>\n",
       "      <td>0.000120</td>\n",
       "      <td>0.132000</td>\n",
       "      <td>0.558000</td>\n",
       "      <td>117.565000</td>\n",
       "      <td>2.179070e+05</td>\n",
       "      <td>4.000000</td>\n",
       "      <td>35.850795</td>\n",
       "      <td>10.000000</td>\n",
       "      <td>0.500000</td>\n",
       "    </tr>\n",
       "    <tr>\n",
       "      <th>75%</th>\n",
       "      <td>0.669000</td>\n",
       "      <td>0.787000</td>\n",
       "      <td>8.000000</td>\n",
       "      <td>-6.374250</td>\n",
       "      <td>1.000000</td>\n",
       "      <td>0.069800</td>\n",
       "      <td>0.676000</td>\n",
       "      <td>0.061250</td>\n",
       "      <td>0.261000</td>\n",
       "      <td>0.768000</td>\n",
       "      <td>136.494000</td>\n",
       "      <td>2.667730e+05</td>\n",
       "      <td>4.000000</td>\n",
       "      <td>47.625615</td>\n",
       "      <td>12.000000</td>\n",
       "      <td>1.000000</td>\n",
       "    </tr>\n",
       "    <tr>\n",
       "      <th>max</th>\n",
       "      <td>0.988000</td>\n",
       "      <td>1.000000</td>\n",
       "      <td>11.000000</td>\n",
       "      <td>3.744000</td>\n",
       "      <td>1.000000</td>\n",
       "      <td>0.960000</td>\n",
       "      <td>0.996000</td>\n",
       "      <td>1.000000</td>\n",
       "      <td>0.999000</td>\n",
       "      <td>0.996000</td>\n",
       "      <td>241.423000</td>\n",
       "      <td>4.170227e+06</td>\n",
       "      <td>5.000000</td>\n",
       "      <td>433.182000</td>\n",
       "      <td>169.000000</td>\n",
       "      <td>1.000000</td>\n",
       "    </tr>\n",
       "  </tbody>\n",
       "</table>\n",
       "</div>"
      ]
     },
     "execution_count": 6,
     "metadata": {},
     "output_type": "execute_result"
    }
   ],
   "execution_count": 6
  },
  {
   "cell_type": "code",
   "source": [
    "df['time_signature'].describe()"
   ],
   "metadata": {
    "id": "GfBBQ-hb2-4N",
    "colab": {
     "base_uri": "https://localhost:8080/"
    },
    "outputId": "81ed690a-8ee3-4e59-d0e4-f9ca0962017a",
    "ExecuteTime": {
     "end_time": "2025-05-14T17:10:13.319452Z",
     "start_time": "2025-05-14T17:10:13.312003Z"
    }
   },
   "outputs": [
    {
     "data": {
      "text/plain": [
       "count    41106.000000\n",
       "mean         3.893689\n",
       "std          0.423073\n",
       "min          0.000000\n",
       "25%          4.000000\n",
       "50%          4.000000\n",
       "75%          4.000000\n",
       "max          5.000000\n",
       "Name: time_signature, dtype: float64"
      ]
     },
     "execution_count": 7,
     "metadata": {},
     "output_type": "execute_result"
    }
   ],
   "execution_count": 7
  },
  {
   "cell_type": "code",
   "source": [
    "df = df.drop(axis=1, labels='time_signature')"
   ],
   "metadata": {
    "id": "MWkuOLbA-uJU",
    "ExecuteTime": {
     "end_time": "2025-05-14T17:10:13.437585Z",
     "start_time": "2025-05-14T17:10:13.432239Z"
    }
   },
   "outputs": [],
   "execution_count": 8
  },
  {
   "cell_type": "markdown",
   "source": [
    "Dropping the column time signature as most values are 4.\n"
   ],
   "metadata": {
    "id": "jnpHfslhomj6"
   }
  },
  {
   "cell_type": "code",
   "source": [
    "#Scaling the data\n",
    "scale = StandardScaler()\n",
    "\n",
    "df_X = df.iloc[:,3:17]\n",
    "\n",
    "\n",
    "df_scaled = scale.fit_transform(df_X)\n",
    "df_scaled = pd.DataFrame(df_scaled)\n",
    "df_scaled.columns = df_X.columns\n",
    "df_scaled"
   ],
   "metadata": {
    "id": "SNG6fqGyA7im",
    "colab": {
     "base_uri": "https://localhost:8080/",
     "height": 487
    },
    "outputId": "b1d33bf5-7949-4a2f-8354-4bae3c2840eb",
    "ExecuteTime": {
     "end_time": "2025-05-14T17:10:13.589012Z",
     "start_time": "2025-05-14T17:10:13.561710Z"
    }
   },
   "outputs": [
    {
     "data": {
      "text/plain": [
       "       danceability    energy       key  loudness      mode  speechiness  \\\n",
       "0          0.215416 -0.429668 -0.343315  0.555679  0.665030    -0.511673   \n",
       "1          0.924004  1.086412  1.354030  0.893245 -1.503691     1.277886   \n",
       "2         -2.124046  1.015160  1.071139  1.357892  0.665030    -0.297994   \n",
       "3         -1.977830  1.640592 -0.343315  1.219326  0.665030     1.080465   \n",
       "4          0.507849  0.730153 -0.909096  1.104859  0.665030    -0.527931   \n",
       "...             ...       ...       ...       ...       ...          ...   \n",
       "41101     -0.808099  0.852864  1.071139  0.781602 -1.503691     1.870147   \n",
       "41102      0.457236  0.298684  1.071139  0.741877 -1.503691    -0.488447   \n",
       "41103      0.125437 -1.051141  1.354030 -0.939738 -1.503691    -0.501221   \n",
       "41104      0.462860  0.797446  0.505358  0.779719  0.665030    -0.419930   \n",
       "41105      0.699055  0.631192 -0.909096  0.229033  0.665030    -0.543028   \n",
       "\n",
       "       acousticness  instrumentalness  liveness   valence     tempo  \\\n",
       "0          0.011220         -0.508740 -0.245926 -0.039055  0.471597   \n",
       "1         -1.020031         -0.508740 -0.309525  0.544503 -0.905554   \n",
       "2         -1.074290         -0.493684 -0.159199 -0.906910 -1.112575   \n",
       "3         -1.074596         -0.250443 -0.055127 -0.783465  1.000112   \n",
       "4         -0.003533         -0.508740 -0.442506  0.331280 -0.248819   \n",
       "...             ...               ...       ...       ...       ...   \n",
       "41101     -1.071880         -0.508052 -0.112945  0.821319  1.154862   \n",
       "41102     -0.925315         -0.488116 -0.623476  0.551984  0.509605   \n",
       "41103      0.223667         -0.508704 -0.552360  0.106835  1.632688   \n",
       "41104     -1.074320          1.978688  1.049193 -1.228615  0.024494   \n",
       "41105     -0.761849         -0.330173  0.760104 -0.315871 -0.930675   \n",
       "\n",
       "       duration_ms  chorus_hit  sections  \n",
       "0        -0.320853   -0.485415  0.518152  \n",
       "1         0.064804    0.073928 -0.097638  \n",
       "2         0.874330    1.327148  0.518152  \n",
       "3         0.174751    0.972847 -0.302901  \n",
       "4        -0.345625   -0.919860 -0.097638  \n",
       "...            ...         ...       ...  \n",
       "41101    -1.284154   -0.513802 -0.918691  \n",
       "41102    -0.195220   -0.274186 -0.097638  \n",
       "41103    -0.378684   -0.999112 -0.097638  \n",
       "41104     0.800023    0.369873  0.107625  \n",
       "41105     0.496743    0.126142  0.723415  \n",
       "\n",
       "[41106 rows x 14 columns]"
      ],
      "text/html": [
       "<div>\n",
       "<style scoped>\n",
       "    .dataframe tbody tr th:only-of-type {\n",
       "        vertical-align: middle;\n",
       "    }\n",
       "\n",
       "    .dataframe tbody tr th {\n",
       "        vertical-align: top;\n",
       "    }\n",
       "\n",
       "    .dataframe thead th {\n",
       "        text-align: right;\n",
       "    }\n",
       "</style>\n",
       "<table border=\"1\" class=\"dataframe\">\n",
       "  <thead>\n",
       "    <tr style=\"text-align: right;\">\n",
       "      <th></th>\n",
       "      <th>danceability</th>\n",
       "      <th>energy</th>\n",
       "      <th>key</th>\n",
       "      <th>loudness</th>\n",
       "      <th>mode</th>\n",
       "      <th>speechiness</th>\n",
       "      <th>acousticness</th>\n",
       "      <th>instrumentalness</th>\n",
       "      <th>liveness</th>\n",
       "      <th>valence</th>\n",
       "      <th>tempo</th>\n",
       "      <th>duration_ms</th>\n",
       "      <th>chorus_hit</th>\n",
       "      <th>sections</th>\n",
       "    </tr>\n",
       "  </thead>\n",
       "  <tbody>\n",
       "    <tr>\n",
       "      <th>0</th>\n",
       "      <td>0.215416</td>\n",
       "      <td>-0.429668</td>\n",
       "      <td>-0.343315</td>\n",
       "      <td>0.555679</td>\n",
       "      <td>0.665030</td>\n",
       "      <td>-0.511673</td>\n",
       "      <td>0.011220</td>\n",
       "      <td>-0.508740</td>\n",
       "      <td>-0.245926</td>\n",
       "      <td>-0.039055</td>\n",
       "      <td>0.471597</td>\n",
       "      <td>-0.320853</td>\n",
       "      <td>-0.485415</td>\n",
       "      <td>0.518152</td>\n",
       "    </tr>\n",
       "    <tr>\n",
       "      <th>1</th>\n",
       "      <td>0.924004</td>\n",
       "      <td>1.086412</td>\n",
       "      <td>1.354030</td>\n",
       "      <td>0.893245</td>\n",
       "      <td>-1.503691</td>\n",
       "      <td>1.277886</td>\n",
       "      <td>-1.020031</td>\n",
       "      <td>-0.508740</td>\n",
       "      <td>-0.309525</td>\n",
       "      <td>0.544503</td>\n",
       "      <td>-0.905554</td>\n",
       "      <td>0.064804</td>\n",
       "      <td>0.073928</td>\n",
       "      <td>-0.097638</td>\n",
       "    </tr>\n",
       "    <tr>\n",
       "      <th>2</th>\n",
       "      <td>-2.124046</td>\n",
       "      <td>1.015160</td>\n",
       "      <td>1.071139</td>\n",
       "      <td>1.357892</td>\n",
       "      <td>0.665030</td>\n",
       "      <td>-0.297994</td>\n",
       "      <td>-1.074290</td>\n",
       "      <td>-0.493684</td>\n",
       "      <td>-0.159199</td>\n",
       "      <td>-0.906910</td>\n",
       "      <td>-1.112575</td>\n",
       "      <td>0.874330</td>\n",
       "      <td>1.327148</td>\n",
       "      <td>0.518152</td>\n",
       "    </tr>\n",
       "    <tr>\n",
       "      <th>3</th>\n",
       "      <td>-1.977830</td>\n",
       "      <td>1.640592</td>\n",
       "      <td>-0.343315</td>\n",
       "      <td>1.219326</td>\n",
       "      <td>0.665030</td>\n",
       "      <td>1.080465</td>\n",
       "      <td>-1.074596</td>\n",
       "      <td>-0.250443</td>\n",
       "      <td>-0.055127</td>\n",
       "      <td>-0.783465</td>\n",
       "      <td>1.000112</td>\n",
       "      <td>0.174751</td>\n",
       "      <td>0.972847</td>\n",
       "      <td>-0.302901</td>\n",
       "    </tr>\n",
       "    <tr>\n",
       "      <th>4</th>\n",
       "      <td>0.507849</td>\n",
       "      <td>0.730153</td>\n",
       "      <td>-0.909096</td>\n",
       "      <td>1.104859</td>\n",
       "      <td>0.665030</td>\n",
       "      <td>-0.527931</td>\n",
       "      <td>-0.003533</td>\n",
       "      <td>-0.508740</td>\n",
       "      <td>-0.442506</td>\n",
       "      <td>0.331280</td>\n",
       "      <td>-0.248819</td>\n",
       "      <td>-0.345625</td>\n",
       "      <td>-0.919860</td>\n",
       "      <td>-0.097638</td>\n",
       "    </tr>\n",
       "    <tr>\n",
       "      <th>...</th>\n",
       "      <td>...</td>\n",
       "      <td>...</td>\n",
       "      <td>...</td>\n",
       "      <td>...</td>\n",
       "      <td>...</td>\n",
       "      <td>...</td>\n",
       "      <td>...</td>\n",
       "      <td>...</td>\n",
       "      <td>...</td>\n",
       "      <td>...</td>\n",
       "      <td>...</td>\n",
       "      <td>...</td>\n",
       "      <td>...</td>\n",
       "      <td>...</td>\n",
       "    </tr>\n",
       "    <tr>\n",
       "      <th>41101</th>\n",
       "      <td>-0.808099</td>\n",
       "      <td>0.852864</td>\n",
       "      <td>1.071139</td>\n",
       "      <td>0.781602</td>\n",
       "      <td>-1.503691</td>\n",
       "      <td>1.870147</td>\n",
       "      <td>-1.071880</td>\n",
       "      <td>-0.508052</td>\n",
       "      <td>-0.112945</td>\n",
       "      <td>0.821319</td>\n",
       "      <td>1.154862</td>\n",
       "      <td>-1.284154</td>\n",
       "      <td>-0.513802</td>\n",
       "      <td>-0.918691</td>\n",
       "    </tr>\n",
       "    <tr>\n",
       "      <th>41102</th>\n",
       "      <td>0.457236</td>\n",
       "      <td>0.298684</td>\n",
       "      <td>1.071139</td>\n",
       "      <td>0.741877</td>\n",
       "      <td>-1.503691</td>\n",
       "      <td>-0.488447</td>\n",
       "      <td>-0.925315</td>\n",
       "      <td>-0.488116</td>\n",
       "      <td>-0.623476</td>\n",
       "      <td>0.551984</td>\n",
       "      <td>0.509605</td>\n",
       "      <td>-0.195220</td>\n",
       "      <td>-0.274186</td>\n",
       "      <td>-0.097638</td>\n",
       "    </tr>\n",
       "    <tr>\n",
       "      <th>41103</th>\n",
       "      <td>0.125437</td>\n",
       "      <td>-1.051141</td>\n",
       "      <td>1.354030</td>\n",
       "      <td>-0.939738</td>\n",
       "      <td>-1.503691</td>\n",
       "      <td>-0.501221</td>\n",
       "      <td>0.223667</td>\n",
       "      <td>-0.508704</td>\n",
       "      <td>-0.552360</td>\n",
       "      <td>0.106835</td>\n",
       "      <td>1.632688</td>\n",
       "      <td>-0.378684</td>\n",
       "      <td>-0.999112</td>\n",
       "      <td>-0.097638</td>\n",
       "    </tr>\n",
       "    <tr>\n",
       "      <th>41104</th>\n",
       "      <td>0.462860</td>\n",
       "      <td>0.797446</td>\n",
       "      <td>0.505358</td>\n",
       "      <td>0.779719</td>\n",
       "      <td>0.665030</td>\n",
       "      <td>-0.419930</td>\n",
       "      <td>-1.074320</td>\n",
       "      <td>1.978688</td>\n",
       "      <td>1.049193</td>\n",
       "      <td>-1.228615</td>\n",
       "      <td>0.024494</td>\n",
       "      <td>0.800023</td>\n",
       "      <td>0.369873</td>\n",
       "      <td>0.107625</td>\n",
       "    </tr>\n",
       "    <tr>\n",
       "      <th>41105</th>\n",
       "      <td>0.699055</td>\n",
       "      <td>0.631192</td>\n",
       "      <td>-0.909096</td>\n",
       "      <td>0.229033</td>\n",
       "      <td>0.665030</td>\n",
       "      <td>-0.543028</td>\n",
       "      <td>-0.761849</td>\n",
       "      <td>-0.330173</td>\n",
       "      <td>0.760104</td>\n",
       "      <td>-0.315871</td>\n",
       "      <td>-0.930675</td>\n",
       "      <td>0.496743</td>\n",
       "      <td>0.126142</td>\n",
       "      <td>0.723415</td>\n",
       "    </tr>\n",
       "  </tbody>\n",
       "</table>\n",
       "<p>41106 rows × 14 columns</p>\n",
       "</div>"
      ]
     },
     "execution_count": 9,
     "metadata": {},
     "output_type": "execute_result"
    }
   ],
   "execution_count": 9
  },
  {
   "cell_type": "markdown",
   "source": [
    "Managing outliers and creating boxplots to analyze the distribution of data and remove outliers"
   ],
   "metadata": {
    "id": "aP4CBNx8ow6o"
   }
  },
  {
   "cell_type": "code",
   "source": [
    "#box plot with outliers\n",
    "df_melt=pd.melt(df_scaled)\n",
    "df_melt\n",
    "sns.set_theme(rc={'figure.figsize':(23,10)})\n",
    "sns.boxplot(x='variable', y='value', data=df_melt)\n",
    "plt.xlabel(None)\n",
    "plt.title('Distribution of predictors with outliers')"
   ],
   "metadata": {
    "id": "h5uX2ZGOCZnl",
    "colab": {
     "base_uri": "https://localhost:8080/",
     "height": 619
    },
    "outputId": "de53b4ad-49aa-4170-d99b-93497631e2c5",
    "ExecuteTime": {
     "end_time": "2025-05-14T17:10:14.592479Z",
     "start_time": "2025-05-14T17:10:13.665321Z"
    }
   },
   "outputs": [
    {
     "data": {
      "text/plain": [
       "Text(0.5, 1.0, 'Distribution of predictors with outliers')"
      ]
     },
     "execution_count": 10,
     "metadata": {},
     "output_type": "execute_result"
    },
    {
     "data": {
      "text/plain": [
       "<Figure size 2300x1000 with 1 Axes>"
      ],
      "image/png": "[encoded data removed]"
     },
     "metadata": {},
     "output_type": "display_data"
    }
   ],
   "execution_count": 10
  },
  {
   "cell_type": "code",
   "source": [
    "#boxplot without outliers\n",
    "df_melt=pd.melt(df_scaled)\n",
    "df_melt\n",
    "sns.set_theme(rc={'figure.figsize':(23,10)})\n",
    "sns.boxplot(x='variable', y='value', data=df_melt, showfliers=False)\n",
    "plt.xlabel(None)\n",
    "plt.title('Distribution of predictors without outliers')"
   ],
   "metadata": {
    "id": "vpx3kRvA9KaK",
    "colab": {
     "base_uri": "https://localhost:8080/",
     "height": 619
    },
    "outputId": "e9e1cdb8-4933-46ba-9a0b-4cc974d00830",
    "ExecuteTime": {
     "end_time": "2025-05-14T17:10:15.520997Z",
     "start_time": "2025-05-14T17:10:14.734976Z"
    }
   },
   "outputs": [
    {
     "data": {
      "text/plain": [
       "Text(0.5, 1.0, 'Distribution of predictors without outliers')"
      ]
     },
     "execution_count": 11,
     "metadata": {},
     "output_type": "execute_result"
    },
    {
     "data": {
      "text/plain": [
       "<Figure size 2300x1000 with 1 Axes>"
      ],
      "image/png": "[encoded data removed]"
     },
     "metadata": {},
     "output_type": "display_data"
    }
   ],
   "execution_count": 11
  },
  {
   "cell_type": "markdown",
   "source": [
    "Removing the outliers"
   ],
   "metadata": {
    "id": "zWtO3cF2pAlo"
   }
  },
  {
   "cell_type": "code",
   "source": [
    "df_clean = df_scaled\n",
    "for col in df_clean.columns:\n",
    "  q1=df_clean[col].quantile(0.25)\n",
    "  q3=df_clean[col].quantile(0.75)\n",
    "  inq=q3-q1\n",
    "  filter=(df_clean[col] >= q1-1.5*inq) & (df_clean[col] <= q3+1.5*inq)\n",
    "  df_clean[col] = df_clean[col].loc[filter]"
   ],
   "metadata": {
    "id": "LkDpLXF9EbGo",
    "ExecuteTime": {
     "end_time": "2025-05-14T17:10:15.624783Z",
     "start_time": "2025-05-14T17:10:15.587829Z"
    }
   },
   "outputs": [],
   "execution_count": 12
  },
  {
   "cell_type": "code",
   "source": [
    "#number of outliers for each predictor\n",
    "df_clean.isna().sum()"
   ],
   "metadata": {
    "id": "kXmPXdEuFcB0",
    "colab": {
     "base_uri": "https://localhost:8080/"
    },
    "outputId": "39e4bd54-b39a-488f-d8eb-4a8e979bb6bb",
    "ExecuteTime": {
     "end_time": "2025-05-14T17:10:15.674239Z",
     "start_time": "2025-05-14T17:10:15.667131Z"
    }
   },
   "outputs": [
    {
     "data": {
      "text/plain": [
       "danceability           1\n",
       "energy                 0\n",
       "key                    0\n",
       "loudness            1343\n",
       "mode                   0\n",
       "speechiness         5088\n",
       "acousticness           0\n",
       "instrumentalness    8920\n",
       "liveness            2688\n",
       "valence                0\n",
       "tempo                434\n",
       "duration_ms         1987\n",
       "chorus_hit          1839\n",
       "sections            1570\n",
       "dtype: int64"
      ]
     },
     "execution_count": 13,
     "metadata": {},
     "output_type": "execute_result"
    }
   ],
   "execution_count": 13
  },
  {
   "cell_type": "markdown",
   "source": [
    "Removing 2 predictors with a lot of outliers"
   ],
   "metadata": {
    "id": "99hUzWj0p3bV"
   }
  },
  {
   "cell_type": "code",
   "source": [
    "#removing 2 predictors\n",
    "df_clean = df_clean.drop(axis=1, labels=['speechiness', 'instrumentalness'])"
   ],
   "metadata": {
    "id": "Hs8yzQQhXqfh",
    "ExecuteTime": {
     "end_time": "2025-05-14T17:10:15.746512Z",
     "start_time": "2025-05-14T17:10:15.741574Z"
    }
   },
   "outputs": [],
   "execution_count": 14
  },
  {
   "cell_type": "code",
   "source": [
    "df_remove = df_clean.dropna()\n",
    "df_remove.shape"
   ],
   "metadata": {
    "id": "X502wN9WXavd",
    "colab": {
     "base_uri": "https://localhost:8080/"
    },
    "outputId": "9c40883b-668b-41d1-d023-d92deabe97fc",
    "ExecuteTime": {
     "end_time": "2025-05-14T17:10:15.821076Z",
     "start_time": "2025-05-14T17:10:15.814075Z"
    }
   },
   "outputs": [
    {
     "data": {
      "text/plain": [
       "(33401, 12)"
      ]
     },
     "execution_count": 15,
     "metadata": {},
     "output_type": "execute_result"
    }
   ],
   "execution_count": 15
  },
  {
   "cell_type": "markdown",
   "source": [
    "Total of 33401 songs remain after cleaning"
   ],
   "metadata": {
    "id": "uvuamqflqCr3"
   }
  },
  {
   "cell_type": "code",
   "source": [
    "#box plot after removing the outliers\n",
    "df_melt=pd.melt(df_remove)\n",
    "df_melt\n",
    "sns.set_theme(rc={'figure.figsize':(23,10)})\n",
    "sns.boxplot(x='variable', y='value', data=df_melt, showfliers=False)\n",
    "plt.xlabel(None)\n",
    "plt.title('Distribution of predictors without outliers')"
   ],
   "metadata": {
    "id": "Egxqteb9NJ6E",
    "colab": {
     "base_uri": "https://localhost:8080/",
     "height": 619
    },
    "outputId": "4e671265-2f6d-445a-ad4c-76371d49990a",
    "ExecuteTime": {
     "end_time": "2025-05-14T17:10:16.516581Z",
     "start_time": "2025-05-14T17:10:15.902470Z"
    }
   },
   "outputs": [
    {
     "data": {
      "text/plain": [
       "Text(0.5, 1.0, 'Distribution of predictors without outliers')"
      ]
     },
     "execution_count": 16,
     "metadata": {},
     "output_type": "execute_result"
    },
    {
     "data": {
      "text/plain": [
       "<Figure size 2300x1000 with 1 Axes>"
      ],
      "image/png": "[encoded data removed]"
     },
     "metadata": {},
     "output_type": "display_data"
    }
   ],
   "execution_count": 16
  },
  {
   "cell_type": "markdown",
   "source": [
    "Creating the unscaled dataframe without the outliers"
   ],
   "metadata": {
    "id": "jgBRof7oqTEU"
   }
  },
  {
   "cell_type": "code",
   "source": [
    "df_merge = df.iloc[df_remove.index]"
   ],
   "metadata": {
    "id": "mQlQUNBLbLAN",
    "ExecuteTime": {
     "end_time": "2025-05-14T17:10:16.575665Z",
     "start_time": "2025-05-14T17:10:16.569242Z"
    }
   },
   "outputs": [],
   "execution_count": 17
  },
  {
   "cell_type": "code",
   "source": [
    "df_merge = df_merge.drop(axis=1, labels=['speechiness', 'instrumentalness'])"
   ],
   "metadata": {
    "id": "xrHrtRZMelCN",
    "ExecuteTime": {
     "end_time": "2025-05-14T17:10:16.620388Z",
     "start_time": "2025-05-14T17:10:16.613273Z"
    }
   },
   "outputs": [],
   "execution_count": 18
  },
  {
   "cell_type": "code",
   "source": [
    "df_merge.columns"
   ],
   "metadata": {
    "id": "ajdCE17ofJkY",
    "colab": {
     "base_uri": "https://localhost:8080/"
    },
    "outputId": "ed146ed7-d602-46dd-bdab-a35bb24f50b2",
    "ExecuteTime": {
     "end_time": "2025-05-14T17:10:16.669348Z",
     "start_time": "2025-05-14T17:10:16.665260Z"
    }
   },
   "outputs": [
    {
     "data": {
      "text/plain": [
       "Index(['track', 'artist', 'uri', 'danceability', 'energy', 'key', 'loudness',\n",
       "       'mode', 'acousticness', 'liveness', 'valence', 'tempo', 'duration_ms',\n",
       "       'chorus_hit', 'sections', 'target', 'decade_of_release'],\n",
       "      dtype='object')"
      ]
     },
     "execution_count": 19,
     "metadata": {},
     "output_type": "execute_result"
    }
   ],
   "execution_count": 19
  },
  {
   "cell_type": "markdown",
   "source": [
    "Counting the number of observations in each class"
   ],
   "metadata": {
    "id": "8ki0FRQgrUCT"
   }
  },
  {
   "cell_type": "code",
   "source": [
    "#observations in each class\n",
    "df_merge.groupby('target')[['danceability', 'energy', 'key', 'loudness',\n",
    "       'mode', 'acousticness', 'liveness', 'valence', 'tempo', 'duration_ms',\n",
    "       'chorus_hit', 'sections']].count()"
   ],
   "metadata": {
    "id": "arLiQVupZ_e5",
    "colab": {
     "base_uri": "https://localhost:8080/",
     "height": 143
    },
    "outputId": "a469aa91-c98a-41cb-970c-30e594b9e222",
    "ExecuteTime": {
     "end_time": "2025-05-14T17:10:16.735594Z",
     "start_time": "2025-05-14T17:10:16.724633Z"
    }
   },
   "outputs": [
    {
     "data": {
      "text/plain": [
       "        danceability  energy    key  loudness   mode  acousticness  liveness  \\\n",
       "target                                                                         \n",
       "0              15247   15247  15247     15247  15247         15247     15247   \n",
       "1              18154   18154  18154     18154  18154         18154     18154   \n",
       "\n",
       "        valence  tempo  duration_ms  chorus_hit  sections  \n",
       "target                                                     \n",
       "0         15247  15247        15247       15247     15247  \n",
       "1         18154  18154        18154       18154     18154  "
      ],
      "text/html": [
       "<div>\n",
       "<style scoped>\n",
       "    .dataframe tbody tr th:only-of-type {\n",
       "        vertical-align: middle;\n",
       "    }\n",
       "\n",
       "    .dataframe tbody tr th {\n",
       "        vertical-align: top;\n",
       "    }\n",
       "\n",
       "    .dataframe thead th {\n",
       "        text-align: right;\n",
       "    }\n",
       "</style>\n",
       "<table border=\"1\" class=\"dataframe\">\n",
       "  <thead>\n",
       "    <tr style=\"text-align: right;\">\n",
       "      <th></th>\n",
       "      <th>danceability</th>\n",
       "      <th>energy</th>\n",
       "      <th>key</th>\n",
       "      <th>loudness</th>\n",
       "      <th>mode</th>\n",
       "      <th>acousticness</th>\n",
       "      <th>liveness</th>\n",
       "      <th>valence</th>\n",
       "      <th>tempo</th>\n",
       "      <th>duration_ms</th>\n",
       "      <th>chorus_hit</th>\n",
       "      <th>sections</th>\n",
       "    </tr>\n",
       "    <tr>\n",
       "      <th>target</th>\n",
       "      <th></th>\n",
       "      <th></th>\n",
       "      <th></th>\n",
       "      <th></th>\n",
       "      <th></th>\n",
       "      <th></th>\n",
       "      <th></th>\n",
       "      <th></th>\n",
       "      <th></th>\n",
       "      <th></th>\n",
       "      <th></th>\n",
       "      <th></th>\n",
       "    </tr>\n",
       "  </thead>\n",
       "  <tbody>\n",
       "    <tr>\n",
       "      <th>0</th>\n",
       "      <td>15247</td>\n",
       "      <td>15247</td>\n",
       "      <td>15247</td>\n",
       "      <td>15247</td>\n",
       "      <td>15247</td>\n",
       "      <td>15247</td>\n",
       "      <td>15247</td>\n",
       "      <td>15247</td>\n",
       "      <td>15247</td>\n",
       "      <td>15247</td>\n",
       "      <td>15247</td>\n",
       "      <td>15247</td>\n",
       "    </tr>\n",
       "    <tr>\n",
       "      <th>1</th>\n",
       "      <td>18154</td>\n",
       "      <td>18154</td>\n",
       "      <td>18154</td>\n",
       "      <td>18154</td>\n",
       "      <td>18154</td>\n",
       "      <td>18154</td>\n",
       "      <td>18154</td>\n",
       "      <td>18154</td>\n",
       "      <td>18154</td>\n",
       "      <td>18154</td>\n",
       "      <td>18154</td>\n",
       "      <td>18154</td>\n",
       "    </tr>\n",
       "  </tbody>\n",
       "</table>\n",
       "</div>"
      ]
     },
     "execution_count": 20,
     "metadata": {},
     "output_type": "execute_result"
    }
   ],
   "execution_count": 20
  },
  {
   "cell_type": "code",
   "source": [
    "#plotting the number of observations\n",
    "sns.countplot(x='target', data=df_merge)\n",
    "sns.set_theme(rc={'figure.figsize':(12,8)})"
   ],
   "metadata": {
    "id": "dTwruG1JmHYT",
    "colab": {
     "base_uri": "https://localhost:8080/",
     "height": 593
    },
    "outputId": "7fd6c45b-bd38-4f67-ae26-c871074cc8af",
    "ExecuteTime": {
     "end_time": "2025-05-14T17:10:16.945033Z",
     "start_time": "2025-05-14T17:10:16.809031Z"
    }
   },
   "outputs": [
    {
     "data": {
      "text/plain": [
       "<Figure size 2300x1000 with 1 Axes>"
      ],
      "image/png": "[encoded data removed]"
     },
     "metadata": {},
     "output_type": "display_data"
    }
   ],
   "execution_count": 21
  },
  {
   "cell_type": "code",
   "source": [
    "#plotting box plots based on target variable for different predictors\n",
    "plt.rcParams[\"figure.figsize\"] = [12, 15]\n",
    "fig, axes = plt.subplots(nrows=3, ncols=4, )\n",
    "df_merge.boxplot(column= 'danceability', by='target', ax=axes[0][0], showfliers=False)\n",
    "df_merge.boxplot(column= 'energy', by='target', ax=axes[0][1], showfliers=False)\n",
    "df_merge.boxplot(column='key', by='target', ax=axes[0][2], showfliers=False)\n",
    "df_merge.boxplot(column='loudness', by='target', ax=axes[0][3], showfliers=False)\n",
    "df_merge.boxplot(column='mode', by='target', ax=axes[1][0], showfliers=False)\n",
    "df_merge.boxplot(column='acousticness', by='target', ax=axes[1][1], showfliers=False)\n",
    "df_merge.boxplot(column='liveness', by='target', ax=axes[1][2], showfliers=False)\n",
    "df_merge.boxplot(column='valence', by='target', ax=axes[1][3], showfliers=False)\n",
    "df_merge.boxplot(column='tempo', by='target', ax=axes[2][0], showfliers=False)\n",
    "df_merge.boxplot(column='duration_ms', by='target', ax=axes[2][1], showfliers=False)\n",
    "df_merge.boxplot(column='chorus_hit', by='target', ax=axes[2][2], showfliers=False)\n",
    "df_merge.boxplot(column='sections', by='target', ax=axes[2][3], showfliers=False)\n",
    "plt.tight_layout()\n",
    "plt.suptitle(None)\n",
    "plt.show()"
   ],
   "metadata": {
    "id": "SIx6XA8nmy5J",
    "colab": {
     "base_uri": "https://localhost:8080/",
     "height": 1000
    },
    "outputId": "2e44afe5-3e45-4f59-cc20-be69eac61aa4",
    "ExecuteTime": {
     "end_time": "2025-05-14T17:10:17.963374Z",
     "start_time": "2025-05-14T17:10:16.972471Z"
    }
   },
   "outputs": [
    {
     "data": {
      "text/plain": [
       "<Figure size 1200x1500 with 12 Axes>"
      ],
      "image/png": "[encoded data removed]"
     },
     "metadata": {},
     "output_type": "display_data"
    }
   ],
   "execution_count": 22
  },
  {
   "cell_type": "code",
   "source": [
    "#correlation between the predictors\n",
    "fig, ax = plt.subplots(figsize=(11,11)) \n",
    "ax = sns.heatmap(df_remove.corr(), annot=True, cmap='RdBu').set(title='Predictors Correlation Heatmap')"
   ],
   "metadata": {
    "id": "MiviF-2-HNMf",
    "colab": {
     "base_uri": "https://localhost:8080/",
     "height": 726
    },
    "outputId": "69eca409-2485-40ef-8404-7b4a588df2e7",
    "ExecuteTime": {
     "end_time": "2025-05-14T17:10:18.528500Z",
     "start_time": "2025-05-14T17:10:18.074784Z"
    }
   },
   "outputs": [
    {
     "data": {
      "text/plain": [
       "<Figure size 1100x1100 with 2 Axes>"
      ],
      "image/png": "[encoded data removed]"
     },
     "metadata": {},
     "output_type": "display_data"
    }
   ],
   "execution_count": 23
  },
  {
   "cell_type": "code",
   "source": [
    "df_merge.iloc[:,3:15]"
   ],
   "metadata": {
    "id": "1mEk8QpG5h78",
    "outputId": "8ae8617c-e1ae-4397-d121-70e1425f5fe6",
    "colab": {
     "base_uri": "https://localhost:8080/",
     "height": 423
    },
    "ExecuteTime": {
     "end_time": "2025-05-14T17:10:18.584610Z",
     "start_time": "2025-05-14T17:10:18.572315Z"
    }
   },
   "outputs": [
    {
     "data": {
      "text/plain": [
       "      danceability  energy  key  loudness  mode  acousticness  liveness  \\\n",
       "0            0.578   0.471    4    -7.270     1      0.368000    0.1590   \n",
       "1            0.704   0.854   10    -5.477     0      0.018500    0.1480   \n",
       "2            0.162   0.836    9    -3.009     1      0.000111    0.1740   \n",
       "3            0.188   0.994    4    -3.745     1      0.000007    0.1920   \n",
       "4            0.630   0.764    2    -4.353     1      0.363000    0.1250   \n",
       "...            ...     ...  ...       ...   ...           ...       ...   \n",
       "5515         0.396   0.795    9    -6.070     0      0.000928    0.1820   \n",
       "5516         0.621   0.655    9    -6.281     0      0.050600    0.0937   \n",
       "5517         0.562   0.314   10   -15.213     0      0.440000    0.1060   \n",
       "5518         0.622   0.781    7    -6.080     1      0.000101    0.3830   \n",
       "5519         0.664   0.739    2    -9.005     1      0.106000    0.3330   \n",
       "\n",
       "      valence    tempo  duration_ms  chorus_hit  sections  \n",
       "0       0.532  133.061       196707    30.88059        13  \n",
       "1       0.688   92.988       242587    41.51106        10  \n",
       "2       0.300   86.964       338893    65.32887        13  \n",
       "3       0.333  148.440       255667    58.59528         9  \n",
       "4       0.631  112.098       193760    22.62384        10  \n",
       "...       ...      ...          ...         ...       ...  \n",
       "5515    0.762  152.943        82107    30.34109         6  \n",
       "5516    0.690  134.167       211653    34.89506        10  \n",
       "5517    0.571  166.847       189827    21.11763        10  \n",
       "5518    0.214  120.051       330053    47.13558        11  \n",
       "5519    0.458   92.257       293973    42.50341        14  \n",
       "\n",
       "[33401 rows x 12 columns]"
      ],
      "text/html": [
       "<div>\n",
       "<style scoped>\n",
       "    .dataframe tbody tr th:only-of-type {\n",
       "        vertical-align: middle;\n",
       "    }\n",
       "\n",
       "    .dataframe tbody tr th {\n",
       "        vertical-align: top;\n",
       "    }\n",
       "\n",
       "    .dataframe thead th {\n",
       "        text-align: right;\n",
       "    }\n",
       "</style>\n",
       "<table border=\"1\" class=\"dataframe\">\n",
       "  <thead>\n",
       "    <tr style=\"text-align: right;\">\n",
       "      <th></th>\n",
       "      <th>danceability</th>\n",
       "      <th>energy</th>\n",
       "      <th>key</th>\n",
       "      <th>loudness</th>\n",
       "      <th>mode</th>\n",
       "      <th>acousticness</th>\n",
       "      <th>liveness</th>\n",
       "      <th>valence</th>\n",
       "      <th>tempo</th>\n",
       "      <th>duration_ms</th>\n",
       "      <th>chorus_hit</th>\n",
       "      <th>sections</th>\n",
       "    </tr>\n",
       "  </thead>\n",
       "  <tbody>\n",
       "    <tr>\n",
       "      <th>0</th>\n",
       "      <td>0.578</td>\n",
       "      <td>0.471</td>\n",
       "      <td>4</td>\n",
       "      <td>-7.270</td>\n",
       "      <td>1</td>\n",
       "      <td>0.368000</td>\n",
       "      <td>0.1590</td>\n",
       "      <td>0.532</td>\n",
       "      <td>133.061</td>\n",
       "      <td>196707</td>\n",
       "      <td>30.88059</td>\n",
       "      <td>13</td>\n",
       "    </tr>\n",
       "    <tr>\n",
       "      <th>1</th>\n",
       "      <td>0.704</td>\n",
       "      <td>0.854</td>\n",
       "      <td>10</td>\n",
       "      <td>-5.477</td>\n",
       "      <td>0</td>\n",
       "      <td>0.018500</td>\n",
       "      <td>0.1480</td>\n",
       "      <td>0.688</td>\n",
       "      <td>92.988</td>\n",
       "      <td>242587</td>\n",
       "      <td>41.51106</td>\n",
       "      <td>10</td>\n",
       "    </tr>\n",
       "    <tr>\n",
       "      <th>2</th>\n",
       "      <td>0.162</td>\n",
       "      <td>0.836</td>\n",
       "      <td>9</td>\n",
       "      <td>-3.009</td>\n",
       "      <td>1</td>\n",
       "      <td>0.000111</td>\n",
       "      <td>0.1740</td>\n",
       "      <td>0.300</td>\n",
       "      <td>86.964</td>\n",
       "      <td>338893</td>\n",
       "      <td>65.32887</td>\n",
       "      <td>13</td>\n",
       "    </tr>\n",
       "    <tr>\n",
       "      <th>3</th>\n",
       "      <td>0.188</td>\n",
       "      <td>0.994</td>\n",
       "      <td>4</td>\n",
       "      <td>-3.745</td>\n",
       "      <td>1</td>\n",
       "      <td>0.000007</td>\n",
       "      <td>0.1920</td>\n",
       "      <td>0.333</td>\n",
       "      <td>148.440</td>\n",
       "      <td>255667</td>\n",
       "      <td>58.59528</td>\n",
       "      <td>9</td>\n",
       "    </tr>\n",
       "    <tr>\n",
       "      <th>4</th>\n",
       "      <td>0.630</td>\n",
       "      <td>0.764</td>\n",
       "      <td>2</td>\n",
       "      <td>-4.353</td>\n",
       "      <td>1</td>\n",
       "      <td>0.363000</td>\n",
       "      <td>0.1250</td>\n",
       "      <td>0.631</td>\n",
       "      <td>112.098</td>\n",
       "      <td>193760</td>\n",
       "      <td>22.62384</td>\n",
       "      <td>10</td>\n",
       "    </tr>\n",
       "    <tr>\n",
       "      <th>...</th>\n",
       "      <td>...</td>\n",
       "      <td>...</td>\n",
       "      <td>...</td>\n",
       "      <td>...</td>\n",
       "      <td>...</td>\n",
       "      <td>...</td>\n",
       "      <td>...</td>\n",
       "      <td>...</td>\n",
       "      <td>...</td>\n",
       "      <td>...</td>\n",
       "      <td>...</td>\n",
       "      <td>...</td>\n",
       "    </tr>\n",
       "    <tr>\n",
       "      <th>5515</th>\n",
       "      <td>0.396</td>\n",
       "      <td>0.795</td>\n",
       "      <td>9</td>\n",
       "      <td>-6.070</td>\n",
       "      <td>0</td>\n",
       "      <td>0.000928</td>\n",
       "      <td>0.1820</td>\n",
       "      <td>0.762</td>\n",
       "      <td>152.943</td>\n",
       "      <td>82107</td>\n",
       "      <td>30.34109</td>\n",
       "      <td>6</td>\n",
       "    </tr>\n",
       "    <tr>\n",
       "      <th>5516</th>\n",
       "      <td>0.621</td>\n",
       "      <td>0.655</td>\n",
       "      <td>9</td>\n",
       "      <td>-6.281</td>\n",
       "      <td>0</td>\n",
       "      <td>0.050600</td>\n",
       "      <td>0.0937</td>\n",
       "      <td>0.690</td>\n",
       "      <td>134.167</td>\n",
       "      <td>211653</td>\n",
       "      <td>34.89506</td>\n",
       "      <td>10</td>\n",
       "    </tr>\n",
       "    <tr>\n",
       "      <th>5517</th>\n",
       "      <td>0.562</td>\n",
       "      <td>0.314</td>\n",
       "      <td>10</td>\n",
       "      <td>-15.213</td>\n",
       "      <td>0</td>\n",
       "      <td>0.440000</td>\n",
       "      <td>0.1060</td>\n",
       "      <td>0.571</td>\n",
       "      <td>166.847</td>\n",
       "      <td>189827</td>\n",
       "      <td>21.11763</td>\n",
       "      <td>10</td>\n",
       "    </tr>\n",
       "    <tr>\n",
       "      <th>5518</th>\n",
       "      <td>0.622</td>\n",
       "      <td>0.781</td>\n",
       "      <td>7</td>\n",
       "      <td>-6.080</td>\n",
       "      <td>1</td>\n",
       "      <td>0.000101</td>\n",
       "      <td>0.3830</td>\n",
       "      <td>0.214</td>\n",
       "      <td>120.051</td>\n",
       "      <td>330053</td>\n",
       "      <td>47.13558</td>\n",
       "      <td>11</td>\n",
       "    </tr>\n",
       "    <tr>\n",
       "      <th>5519</th>\n",
       "      <td>0.664</td>\n",
       "      <td>0.739</td>\n",
       "      <td>2</td>\n",
       "      <td>-9.005</td>\n",
       "      <td>1</td>\n",
       "      <td>0.106000</td>\n",
       "      <td>0.3330</td>\n",
       "      <td>0.458</td>\n",
       "      <td>92.257</td>\n",
       "      <td>293973</td>\n",
       "      <td>42.50341</td>\n",
       "      <td>14</td>\n",
       "    </tr>\n",
       "  </tbody>\n",
       "</table>\n",
       "<p>33401 rows × 12 columns</p>\n",
       "</div>"
      ]
     },
     "execution_count": 24,
     "metadata": {},
     "output_type": "execute_result"
    }
   ],
   "execution_count": 24
  },
  {
   "cell_type": "code",
   "source": [
    "#creating final scaled data with all the variables\n",
    "scale = StandardScaler()\n",
    "scale_X = scale.fit_transform(df_merge.iloc[:,3:15])\n",
    "df_merge.iloc[:,3:15] = scale_X"
   ],
   "metadata": {
    "id": "KG8fjk4d6_cg",
    "ExecuteTime": {
     "end_time": "2025-05-14T17:10:18.686407Z",
     "start_time": "2025-05-14T17:10:18.667925Z"
    }
   },
   "outputs": [
    {
     "name": "stderr",
     "output_type": "stream",
     "text": [
      "C:\\Users\\lambe\\AppData\\Local\\Temp\\ipykernel_21332\\2806932618.py:4: FutureWarning: Setting an item of incompatible dtype is deprecated and will raise in a future error of pandas. Value '[-0.33947754  1.35635314  1.0737147  ...  1.35635314  0.5084378\n",
      " -0.90475443]' has dtype incompatible with int64, please explicitly cast to a compatible dtype first.\n",
      "  df_merge.iloc[:,3:15] = scale_X\n",
      "C:\\Users\\lambe\\AppData\\Local\\Temp\\ipykernel_21332\\2806932618.py:4: FutureWarning: Setting an item of incompatible dtype is deprecated and will raise in a future error of pandas. Value '[ 0.65174764 -1.5343362   0.65174764 ... -1.5343362   0.65174764\n",
      "  0.65174764]' has dtype incompatible with int64, please explicitly cast to a compatible dtype first.\n",
      "  df_merge.iloc[:,3:15] = scale_X\n",
      "C:\\Users\\lambe\\AppData\\Local\\Temp\\ipykernel_21332\\2806932618.py:4: FutureWarning: Setting an item of incompatible dtype is deprecated and will raise in a future error of pandas. Value '[-0.31509384  0.40510302  1.91685711 ... -0.42309197  1.77809207\n",
      "  1.21172977]' has dtype incompatible with int64, please explicitly cast to a compatible dtype first.\n",
      "  df_merge.iloc[:,3:15] = scale_X\n",
      "C:\\Users\\lambe\\AppData\\Local\\Temp\\ipykernel_21332\\2806932618.py:4: FutureWarning: Setting an item of incompatible dtype is deprecated and will raise in a future error of pandas. Value '[1.08862226 0.031727   1.08862226 ... 0.031727   0.38402542 1.44092068]' has dtype incompatible with int64, please explicitly cast to a compatible dtype first.\n",
      "  df_merge.iloc[:,3:15] = scale_X\n"
     ]
    }
   ],
   "execution_count": 25
  },
  {
   "cell_type": "code",
   "source": [
    "df_merge"
   ],
   "metadata": {
    "colab": {
     "base_uri": "https://localhost:8080/",
     "height": 783
    },
    "id": "qX4VXDrLwdBp",
    "outputId": "8ee6fe5e-bc61-4a9a-f119-cc2c6936ade1",
    "ExecuteTime": {
     "end_time": "2025-05-14T17:10:18.765720Z",
     "start_time": "2025-05-14T17:10:18.753330Z"
    }
   },
   "outputs": [
    {
     "data": {
      "text/plain": [
       "                                   track             artist  \\\n",
       "0                              Lucky Man  Montgomery Gentry   \n",
       "1                         On The Hotline       Pretty Ricky   \n",
       "2                     Clouds Of Dementia         Candlemass   \n",
       "3               Heavy Metal, Raise Hell!      Zwartketterij   \n",
       "4                        I Got A Feelin'   Billy Currington   \n",
       "...                                  ...                ...   \n",
       "5515               (You're A) Go Nowhere       Reagan Youth   \n",
       "5516                  La Fiebre de Norma       La Castañeda   \n",
       "5517                          Good Times      Edie Brickell   \n",
       "5518                               Inane              KMFDM   \n",
       "5519  You Can Make History (Young Again)         Elton John   \n",
       "\n",
       "                                       uri  danceability    energy       key  \\\n",
       "0     spotify:track:4GiXBCUF7H6YfNQsnBRIzl      0.118486 -0.518795 -0.339478   \n",
       "1     spotify:track:1zyqZONW985Cs4osz9wlsu      0.861614  1.100931  1.356353   \n",
       "2     spotify:track:6cHZf7RbxXCKwEkgAZT4mY     -2.335015  1.024808  1.073715   \n",
       "3     spotify:track:2IjBPp2vMeX7LggzRN3iSX     -2.181672  1.692998 -0.339478   \n",
       "4     spotify:track:1tF370eYXUcWwkIvaq3IGz      0.425174  0.720316 -0.904754   \n",
       "...                                    ...           ...       ...       ...   \n",
       "5515  spotify:track:4e86fqSFhqRQk3Z9hm7XHt     -0.954921  0.851417  1.073715   \n",
       "5516  spotify:track:43DFcnOZprnVlAFKwgBJ3e      0.372093  0.259350  1.073715   \n",
       "5517  spotify:track:6UPfnVoOq3y3BvapBIKs8J      0.024120 -1.182755  1.356353   \n",
       "5518  spotify:track:2Ao3Wi4raEOQfKQiU9EU8y      0.377991  0.792210  0.508438   \n",
       "5519  spotify:track:3ca91BX2k7GSzEUsx1mPgI      0.625700  0.614590 -0.904754   \n",
       "\n",
       "      loudness      mode  acousticness  liveness   valence     tempo  \\\n",
       "0     0.535085  0.651748      0.072572 -0.076165 -0.126019  0.495782   \n",
       "1     0.957657 -1.534336     -0.997974 -0.181124  0.478866 -0.953376   \n",
       "2     1.539313  0.651748     -1.054301  0.066960 -1.025591 -1.171222   \n",
       "3     1.365853  0.651748     -1.054618  0.238710 -0.897635  1.051932   \n",
       "4     1.222560  0.651748      0.057257 -0.400582  0.257851 -0.262302   \n",
       "...        ...       ...           ...       ...       ...       ...   \n",
       "5515  0.817900 -1.534336     -1.051798  0.143293  0.765799  1.214773   \n",
       "5516  0.768171 -1.534336     -0.899649 -0.699237  0.486621  0.535778   \n",
       "5517 -1.336912 -1.534336      0.293114 -0.581874  0.025203  1.717583   \n",
       "5518  0.815543  0.651748     -1.054332  2.061170 -1.359053  0.025302   \n",
       "5519  0.126182  0.651748     -0.729955  1.584086 -0.412951 -0.979811   \n",
       "\n",
       "      duration_ms  chorus_hit  sections  target decade_of_release  \n",
       "0       -0.315094   -0.479443  1.088622       1                00  \n",
       "1        0.405103    0.308361  0.031727       1                00  \n",
       "2        1.916857    2.073455  1.088622       0                00  \n",
       "3        0.610425    1.574441 -0.320571       0                00  \n",
       "4       -0.361354   -1.091335  0.031727       1                00  \n",
       "...           ...         ...       ...     ...               ...  \n",
       "5515    -2.114016   -0.519424 -1.377467       0                90  \n",
       "5516    -0.080480   -0.181938  0.031727       0                90  \n",
       "5517    -0.423092   -1.202957  0.031727       1                90  \n",
       "5518     1.778092    0.725184  0.384025       0                90  \n",
       "5519     1.211730    0.381903  1.440921       1                90  \n",
       "\n",
       "[33401 rows x 17 columns]"
      ],
      "text/html": [
       "<div>\n",
       "<style scoped>\n",
       "    .dataframe tbody tr th:only-of-type {\n",
       "        vertical-align: middle;\n",
       "    }\n",
       "\n",
       "    .dataframe tbody tr th {\n",
       "        vertical-align: top;\n",
       "    }\n",
       "\n",
       "    .dataframe thead th {\n",
       "        text-align: right;\n",
       "    }\n",
       "</style>\n",
       "<table border=\"1\" class=\"dataframe\">\n",
       "  <thead>\n",
       "    <tr style=\"text-align: right;\">\n",
       "      <th></th>\n",
       "      <th>track</th>\n",
       "      <th>artist</th>\n",
       "      <th>uri</th>\n",
       "      <th>danceability</th>\n",
       "      <th>energy</th>\n",
       "      <th>key</th>\n",
       "      <th>loudness</th>\n",
       "      <th>mode</th>\n",
       "      <th>acousticness</th>\n",
       "      <th>liveness</th>\n",
       "      <th>valence</th>\n",
       "      <th>tempo</th>\n",
       "      <th>duration_ms</th>\n",
       "      <th>chorus_hit</th>\n",
       "      <th>sections</th>\n",
       "      <th>target</th>\n",
       "      <th>decade_of_release</th>\n",
       "    </tr>\n",
       "  </thead>\n",
       "  <tbody>\n",
       "    <tr>\n",
       "      <th>0</th>\n",
       "      <td>Lucky Man</td>\n",
       "      <td>Montgomery Gentry</td>\n",
       "      <td>spotify:track:4GiXBCUF7H6YfNQsnBRIzl</td>\n",
       "      <td>0.118486</td>\n",
       "      <td>-0.518795</td>\n",
       "      <td>-0.339478</td>\n",
       "      <td>0.535085</td>\n",
       "      <td>0.651748</td>\n",
       "      <td>0.072572</td>\n",
       "      <td>-0.076165</td>\n",
       "      <td>-0.126019</td>\n",
       "      <td>0.495782</td>\n",
       "      <td>-0.315094</td>\n",
       "      <td>-0.479443</td>\n",
       "      <td>1.088622</td>\n",
       "      <td>1</td>\n",
       "      <td>00</td>\n",
       "    </tr>\n",
       "    <tr>\n",
       "      <th>1</th>\n",
       "      <td>On The Hotline</td>\n",
       "      <td>Pretty Ricky</td>\n",
       "      <td>spotify:track:1zyqZONW985Cs4osz9wlsu</td>\n",
       "      <td>0.861614</td>\n",
       "      <td>1.100931</td>\n",
       "      <td>1.356353</td>\n",
       "      <td>0.957657</td>\n",
       "      <td>-1.534336</td>\n",
       "      <td>-0.997974</td>\n",
       "      <td>-0.181124</td>\n",
       "      <td>0.478866</td>\n",
       "      <td>-0.953376</td>\n",
       "      <td>0.405103</td>\n",
       "      <td>0.308361</td>\n",
       "      <td>0.031727</td>\n",
       "      <td>1</td>\n",
       "      <td>00</td>\n",
       "    </tr>\n",
       "    <tr>\n",
       "      <th>2</th>\n",
       "      <td>Clouds Of Dementia</td>\n",
       "      <td>Candlemass</td>\n",
       "      <td>spotify:track:6cHZf7RbxXCKwEkgAZT4mY</td>\n",
       "      <td>-2.335015</td>\n",
       "      <td>1.024808</td>\n",
       "      <td>1.073715</td>\n",
       "      <td>1.539313</td>\n",
       "      <td>0.651748</td>\n",
       "      <td>-1.054301</td>\n",
       "      <td>0.066960</td>\n",
       "      <td>-1.025591</td>\n",
       "      <td>-1.171222</td>\n",
       "      <td>1.916857</td>\n",
       "      <td>2.073455</td>\n",
       "      <td>1.088622</td>\n",
       "      <td>0</td>\n",
       "      <td>00</td>\n",
       "    </tr>\n",
       "    <tr>\n",
       "      <th>3</th>\n",
       "      <td>Heavy Metal, Raise Hell!</td>\n",
       "      <td>Zwartketterij</td>\n",
       "      <td>spotify:track:2IjBPp2vMeX7LggzRN3iSX</td>\n",
       "      <td>-2.181672</td>\n",
       "      <td>1.692998</td>\n",
       "      <td>-0.339478</td>\n",
       "      <td>1.365853</td>\n",
       "      <td>0.651748</td>\n",
       "      <td>-1.054618</td>\n",
       "      <td>0.238710</td>\n",
       "      <td>-0.897635</td>\n",
       "      <td>1.051932</td>\n",
       "      <td>0.610425</td>\n",
       "      <td>1.574441</td>\n",
       "      <td>-0.320571</td>\n",
       "      <td>0</td>\n",
       "      <td>00</td>\n",
       "    </tr>\n",
       "    <tr>\n",
       "      <th>4</th>\n",
       "      <td>I Got A Feelin'</td>\n",
       "      <td>Billy Currington</td>\n",
       "      <td>spotify:track:1tF370eYXUcWwkIvaq3IGz</td>\n",
       "      <td>0.425174</td>\n",
       "      <td>0.720316</td>\n",
       "      <td>-0.904754</td>\n",
       "      <td>1.222560</td>\n",
       "      <td>0.651748</td>\n",
       "      <td>0.057257</td>\n",
       "      <td>-0.400582</td>\n",
       "      <td>0.257851</td>\n",
       "      <td>-0.262302</td>\n",
       "      <td>-0.361354</td>\n",
       "      <td>-1.091335</td>\n",
       "      <td>0.031727</td>\n",
       "      <td>1</td>\n",
       "      <td>00</td>\n",
       "    </tr>\n",
       "    <tr>\n",
       "      <th>...</th>\n",
       "      <td>...</td>\n",
       "      <td>...</td>\n",
       "      <td>...</td>\n",
       "      <td>...</td>\n",
       "      <td>...</td>\n",
       "      <td>...</td>\n",
       "      <td>...</td>\n",
       "      <td>...</td>\n",
       "      <td>...</td>\n",
       "      <td>...</td>\n",
       "      <td>...</td>\n",
       "      <td>...</td>\n",
       "      <td>...</td>\n",
       "      <td>...</td>\n",
       "      <td>...</td>\n",
       "      <td>...</td>\n",
       "      <td>...</td>\n",
       "    </tr>\n",
       "    <tr>\n",
       "      <th>5515</th>\n",
       "      <td>(You're A) Go Nowhere</td>\n",
       "      <td>Reagan Youth</td>\n",
       "      <td>spotify:track:4e86fqSFhqRQk3Z9hm7XHt</td>\n",
       "      <td>-0.954921</td>\n",
       "      <td>0.851417</td>\n",
       "      <td>1.073715</td>\n",
       "      <td>0.817900</td>\n",
       "      <td>-1.534336</td>\n",
       "      <td>-1.051798</td>\n",
       "      <td>0.143293</td>\n",
       "      <td>0.765799</td>\n",
       "      <td>1.214773</td>\n",
       "      <td>-2.114016</td>\n",
       "      <td>-0.519424</td>\n",
       "      <td>-1.377467</td>\n",
       "      <td>0</td>\n",
       "      <td>90</td>\n",
       "    </tr>\n",
       "    <tr>\n",
       "      <th>5516</th>\n",
       "      <td>La Fiebre de Norma</td>\n",
       "      <td>La Castañeda</td>\n",
       "      <td>spotify:track:43DFcnOZprnVlAFKwgBJ3e</td>\n",
       "      <td>0.372093</td>\n",
       "      <td>0.259350</td>\n",
       "      <td>1.073715</td>\n",
       "      <td>0.768171</td>\n",
       "      <td>-1.534336</td>\n",
       "      <td>-0.899649</td>\n",
       "      <td>-0.699237</td>\n",
       "      <td>0.486621</td>\n",
       "      <td>0.535778</td>\n",
       "      <td>-0.080480</td>\n",
       "      <td>-0.181938</td>\n",
       "      <td>0.031727</td>\n",
       "      <td>0</td>\n",
       "      <td>90</td>\n",
       "    </tr>\n",
       "    <tr>\n",
       "      <th>5517</th>\n",
       "      <td>Good Times</td>\n",
       "      <td>Edie Brickell</td>\n",
       "      <td>spotify:track:6UPfnVoOq3y3BvapBIKs8J</td>\n",
       "      <td>0.024120</td>\n",
       "      <td>-1.182755</td>\n",
       "      <td>1.356353</td>\n",
       "      <td>-1.336912</td>\n",
       "      <td>-1.534336</td>\n",
       "      <td>0.293114</td>\n",
       "      <td>-0.581874</td>\n",
       "      <td>0.025203</td>\n",
       "      <td>1.717583</td>\n",
       "      <td>-0.423092</td>\n",
       "      <td>-1.202957</td>\n",
       "      <td>0.031727</td>\n",
       "      <td>1</td>\n",
       "      <td>90</td>\n",
       "    </tr>\n",
       "    <tr>\n",
       "      <th>5518</th>\n",
       "      <td>Inane</td>\n",
       "      <td>KMFDM</td>\n",
       "      <td>spotify:track:2Ao3Wi4raEOQfKQiU9EU8y</td>\n",
       "      <td>0.377991</td>\n",
       "      <td>0.792210</td>\n",
       "      <td>0.508438</td>\n",
       "      <td>0.815543</td>\n",
       "      <td>0.651748</td>\n",
       "      <td>-1.054332</td>\n",
       "      <td>2.061170</td>\n",
       "      <td>-1.359053</td>\n",
       "      <td>0.025302</td>\n",
       "      <td>1.778092</td>\n",
       "      <td>0.725184</td>\n",
       "      <td>0.384025</td>\n",
       "      <td>0</td>\n",
       "      <td>90</td>\n",
       "    </tr>\n",
       "    <tr>\n",
       "      <th>5519</th>\n",
       "      <td>You Can Make History (Young Again)</td>\n",
       "      <td>Elton John</td>\n",
       "      <td>spotify:track:3ca91BX2k7GSzEUsx1mPgI</td>\n",
       "      <td>0.625700</td>\n",
       "      <td>0.614590</td>\n",
       "      <td>-0.904754</td>\n",
       "      <td>0.126182</td>\n",
       "      <td>0.651748</td>\n",
       "      <td>-0.729955</td>\n",
       "      <td>1.584086</td>\n",
       "      <td>-0.412951</td>\n",
       "      <td>-0.979811</td>\n",
       "      <td>1.211730</td>\n",
       "      <td>0.381903</td>\n",
       "      <td>1.440921</td>\n",
       "      <td>1</td>\n",
       "      <td>90</td>\n",
       "    </tr>\n",
       "  </tbody>\n",
       "</table>\n",
       "<p>33401 rows × 17 columns</p>\n",
       "</div>"
      ]
     },
     "execution_count": 26,
     "metadata": {},
     "output_type": "execute_result"
    }
   ],
   "execution_count": 26
  },
  {
   "cell_type": "markdown",
   "source": [
    "# Building the Model"
   ],
   "metadata": {
    "id": "YUTQqtQqO3UV"
   }
  },
  {
   "cell_type": "markdown",
   "source": [
    "Creating X and Y"
   ],
   "metadata": {
    "id": "mYji37owVKNH"
   }
  },
  {
   "cell_type": "code",
   "source": [
    "X = df_merge.iloc[:,3:15]\n",
    "X.shape"
   ],
   "metadata": {
    "colab": {
     "base_uri": "https://localhost:8080/"
    },
    "id": "BM1ZIY3lQgW0",
    "outputId": "56a36945-29d7-44cf-840a-21208d87fed3",
    "ExecuteTime": {
     "end_time": "2025-05-14T17:10:18.887285Z",
     "start_time": "2025-05-14T17:10:18.881276Z"
    }
   },
   "outputs": [
    {
     "data": {
      "text/plain": [
       "(33401, 12)"
      ]
     },
     "execution_count": 27,
     "metadata": {},
     "output_type": "execute_result"
    }
   ],
   "execution_count": 27
  },
  {
   "cell_type": "code",
   "source": [
    "y = df_merge['target']\n",
    "y.shape"
   ],
   "metadata": {
    "colab": {
     "base_uri": "https://localhost:8080/"
    },
    "id": "zGZMPp8NQCGd",
    "outputId": "a66344f4-d213-4dbb-8dbc-a90638e58315",
    "ExecuteTime": {
     "end_time": "2025-05-14T17:10:19.034318Z",
     "start_time": "2025-05-14T17:10:19.028988Z"
    }
   },
   "outputs": [
    {
     "data": {
      "text/plain": [
       "(33401,)"
      ]
     },
     "execution_count": 28,
     "metadata": {},
     "output_type": "execute_result"
    }
   ],
   "execution_count": 28
  },
  {
   "cell_type": "markdown",
   "source": [
    "**Step 1 for choosing the top models**"
   ],
   "metadata": {
    "id": "HLRJP4ojVRoP"
   }
  },
  {
   "cell_type": "code",
   "source": [
    "X_train, X_test, y_train, y_test = train_test_split(X, y, train_size=0.8, shuffle=True, random_state=1)"
   ],
   "metadata": {
    "id": "ig9tCBus8sge",
    "ExecuteTime": {
     "end_time": "2025-05-14T17:10:19.114576Z",
     "start_time": "2025-05-14T17:10:19.104883Z"
    }
   },
   "outputs": [],
   "execution_count": 29
  },
  {
   "cell_type": "markdown",
   "source": [
    "# First Model Training"
   ],
   "metadata": {
    "id": "pT8-XBQg8n-n"
   }
  },
  {
   "cell_type": "code",
   "source": [
    "#training the models\n",
    "models = {\n",
    "    \"                   Logistic Regression\": LogisticRegression(random_state=RANDOM_STATE),\n",
    "    \"                   K-Nearest Neighbors\": KNeighborsClassifier(),\n",
    "    \"                         Decision Tree\": DecisionTreeClassifier(random_state=RANDOM_STATE),\n",
    "    \"Support Vector Machine (Linear Kernel)\": LinearSVC(random_state=RANDOM_STATE),\n",
    "    \"   Support Vector Machine (RBF Kernel)\": SVC(random_state=RANDOM_STATE),\n",
    "    \"               Neural Network(sklearn)\": MLPClassifier(max_iter=500, random_state=RANDOM_STATE),\n",
    "    \"                         Random Forest\": RandomForestClassifier(random_state=RANDOM_STATE),\n",
    "    \"            Gradient Boosting(sklearn)\": GradientBoostingClassifier(random_state=RANDOM_STATE),\n",
    "    \"                              Catboost\": CatBoostClassifier(logging_level = 'Silent',random_state=RANDOM_STATE),\n",
    "    \"                               xgboost\": xgb.XGBClassifier(random_state=RANDOM_STATE),\n",
    "}\n",
    "\n",
    "for name, model in models.items():\n",
    "    model.fit(X_train, y_train)\n",
    "    print(name + \" trained.\")"
   ],
   "metadata": {
    "colab": {
     "base_uri": "https://localhost:8080/"
    },
    "id": "1Se49IBLPJY0",
    "outputId": "02507975-855c-4a63-9a22-3c944878b7de",
    "ExecuteTime": {
     "end_time": "2025-05-14T17:11:12.242173Z",
     "start_time": "2025-05-14T17:10:19.167648Z"
    }
   },
   "outputs": [
    {
     "name": "stdout",
     "output_type": "stream",
     "text": [
      "                   Logistic Regression trained.\n",
      "                   K-Nearest Neighbors trained.\n",
      "                         Decision Tree trained.\n",
      "Support Vector Machine (Linear Kernel) trained.\n",
      "   Support Vector Machine (RBF Kernel) trained.\n",
      "               Neural Network(sklearn) trained.\n",
      "                         Random Forest trained.\n",
      "            Gradient Boosting(sklearn) trained.\n",
      "                              Catboost trained.\n",
      "                               xgboost trained.\n"
     ]
    }
   ],
   "execution_count": 30
  },
  {
   "cell_type": "code",
   "source": [
    "#3-fold cross validation for choosing the top models\n",
    "mean_df = []\n",
    "for name, model in models.items():\n",
    "  mean_arr = {}\n",
    "  cv_results = cross_val_score(model, X_train, y_train, cv=3)\n",
    "  mean = np.mean(cv_results)\n",
    "  print(name, mean)\n",
    "  mean_arr['name']=name\n",
    "  mean_arr['result']=mean\n",
    "  mean_df.append(mean_arr)\n",
    "  \n",
    "    "
   ],
   "metadata": {
    "colab": {
     "base_uri": "https://localhost:8080/"
    },
    "id": "-NrAzoYPjOEW",
    "outputId": "53909909-2c27-4b2a-aca4-d9422be69827",
    "ExecuteTime": {
     "end_time": "2025-05-14T17:13:45.670751Z",
     "start_time": "2025-05-14T17:11:12.329201Z"
    }
   },
   "outputs": [
    {
     "name": "stdout",
     "output_type": "stream",
     "text": [
      "                   Logistic Regression 0.6815493764936985\n",
      "                   K-Nearest Neighbors 0.6840570870424383\n",
      "                         Decision Tree 0.6473053518154717\n",
      "Support Vector Machine (Linear Kernel) 0.6822230459985276\n",
      "   Support Vector Machine (RBF Kernel) 0.7342440574544726\n",
      "               Neural Network(sklearn) 0.7261975017727117\n",
      "                         Random Forest 0.7380613176825584\n",
      "            Gradient Boosting(sklearn) 0.7309879391568335\n",
      "                              Catboost 0.7442364674004563\n",
      "                               xgboost 0.7308382231499749\n"
     ]
    }
   ],
   "execution_count": 31
  },
  {
   "cell_type": "code",
   "source": "pd.DataFrame(mean_df).sort_values('result',ascending=False)",
   "metadata": {
    "colab": {
     "base_uri": "https://localhost:8080/",
     "height": 300
    },
    "id": "6sQLwsWhkfGp",
    "outputId": "93499672-c58c-4253-8733-dd02d608d5b8",
    "ExecuteTime": {
     "end_time": "2025-05-14T17:13:45.766395Z",
     "start_time": "2025-05-14T17:13:45.756667Z"
    }
   },
   "outputs": [
    {
     "data": {
      "text/plain": [
       "                                     name    result\n",
       "8                                Catboost  0.744236\n",
       "6                           Random Forest  0.738061\n",
       "4     Support Vector Machine (RBF Kernel)  0.734244\n",
       "7              Gradient Boosting(sklearn)  0.730988\n",
       "9                                 xgboost  0.730838\n",
       "5                 Neural Network(sklearn)  0.726198\n",
       "1                     K-Nearest Neighbors  0.684057\n",
       "3  Support Vector Machine (Linear Kernel)  0.682223\n",
       "0                     Logistic Regression  0.681549\n",
       "2                           Decision Tree  0.647305"
      ],
      "text/html": [
       "<div>\n",
       "<style scoped>\n",
       "    .dataframe tbody tr th:only-of-type {\n",
       "        vertical-align: middle;\n",
       "    }\n",
       "\n",
       "    .dataframe tbody tr th {\n",
       "        vertical-align: top;\n",
       "    }\n",
       "\n",
       "    .dataframe thead th {\n",
       "        text-align: right;\n",
       "    }\n",
       "</style>\n",
       "<table border=\"1\" class=\"dataframe\">\n",
       "  <thead>\n",
       "    <tr style=\"text-align: right;\">\n",
       "      <th></th>\n",
       "      <th>name</th>\n",
       "      <th>result</th>\n",
       "    </tr>\n",
       "  </thead>\n",
       "  <tbody>\n",
       "    <tr>\n",
       "      <th>8</th>\n",
       "      <td>Catboost</td>\n",
       "      <td>0.744236</td>\n",
       "    </tr>\n",
       "    <tr>\n",
       "      <th>6</th>\n",
       "      <td>Random Forest</td>\n",
       "      <td>0.738061</td>\n",
       "    </tr>\n",
       "    <tr>\n",
       "      <th>4</th>\n",
       "      <td>Support Vector Machine (RBF Kernel)</td>\n",
       "      <td>0.734244</td>\n",
       "    </tr>\n",
       "    <tr>\n",
       "      <th>7</th>\n",
       "      <td>Gradient Boosting(sklearn)</td>\n",
       "      <td>0.730988</td>\n",
       "    </tr>\n",
       "    <tr>\n",
       "      <th>9</th>\n",
       "      <td>xgboost</td>\n",
       "      <td>0.730838</td>\n",
       "    </tr>\n",
       "    <tr>\n",
       "      <th>5</th>\n",
       "      <td>Neural Network(sklearn)</td>\n",
       "      <td>0.726198</td>\n",
       "    </tr>\n",
       "    <tr>\n",
       "      <th>1</th>\n",
       "      <td>K-Nearest Neighbors</td>\n",
       "      <td>0.684057</td>\n",
       "    </tr>\n",
       "    <tr>\n",
       "      <th>3</th>\n",
       "      <td>Support Vector Machine (Linear Kernel)</td>\n",
       "      <td>0.682223</td>\n",
       "    </tr>\n",
       "    <tr>\n",
       "      <th>0</th>\n",
       "      <td>Logistic Regression</td>\n",
       "      <td>0.681549</td>\n",
       "    </tr>\n",
       "    <tr>\n",
       "      <th>2</th>\n",
       "      <td>Decision Tree</td>\n",
       "      <td>0.647305</td>\n",
       "    </tr>\n",
       "  </tbody>\n",
       "</table>\n",
       "</div>"
      ]
     },
     "execution_count": 32,
     "metadata": {},
     "output_type": "execute_result"
    }
   ],
   "execution_count": 32
  },
  {
   "metadata": {},
   "cell_type": "markdown",
   "source": [
    "### Intermediate conclusions\n",
    "1. Catboost showed the best result, it's worth continuing to work with it\n",
    "2. Random forest showed a fairly good result, while remaining fast enough and leaving room for interpretation.\n",
    "3. Sklearn neural network showed good result. I should try to build torch NN for this task"
   ]
  },
  {
   "cell_type": "markdown",
   "source": [
    "# **5 fold Cross Validation for choosing the best model**"
   ],
   "metadata": {
    "id": "QeBSK7HZaDiw"
   }
  },
  {
   "metadata": {},
   "cell_type": "markdown",
   "source": "Catboost"
  },
  {
   "metadata": {
    "ExecuteTime": {
     "end_time": "2025-05-14T17:20:16.920554Z",
     "start_time": "2025-05-14T17:13:45.926135Z"
    }
   },
   "cell_type": "code",
   "source": [
    "def objective(trial):\n",
    "    params = {\n",
    "        \"iterations\": 1000,\n",
    "        \"learning_rate\": trial.suggest_float(\"learning_rate\", 1e-3, 0.1, log=True),\n",
    "        \"depth\": trial.suggest_int(\"depth\", 1, 10),\n",
    "        \"subsample\": trial.suggest_float(\"subsample\", 0.05, 1.0),\n",
    "        \"colsample_bylevel\": trial.suggest_float(\"colsample_bylevel\", 0.05, 1.0),\n",
    "        \"min_data_in_leaf\": trial.suggest_int(\"min_data_in_leaf\", 1, 100),\n",
    "    }\n",
    "\n",
    "    catboost_model = CatBoostClassifier(**params, logging_level = 'Silent',random_state=RANDOM_STATE)\n",
    "    catboost_model.fit(X_train, y_train)\n",
    "    predictions = catboost_model.predict(X)\n",
    "    score = f1_score(y, predictions)\n",
    "    return score\n",
    "catboost_study = optuna.create_study(direction='maximize')\n",
    "catboost_study.optimize(objective, n_trials=30)\n",
    "print(f'Best hyperparameters: {catboost_study.best_params}')\n",
    "print(f'Best accuracy_score: {catboost_study.best_value}')"
   ],
   "outputs": [
    {
     "name": "stderr",
     "output_type": "stream",
     "text": [
      "[I 2025-05-14 20:13:45,931] A new study created in memory with name: no-name-2bee7ff6-70be-4348-9456-1d158b0aa668\n",
      "[I 2025-05-14 20:13:55,569] Trial 0 finished with value: 0.7695948976032687 and parameters: {'learning_rate': 0.005215301828972918, 'depth': 3, 'subsample': 0.8871185355690216, 'colsample_bylevel': 0.8111961468902821, 'min_data_in_leaf': 23}. Best is trial 0 with value: 0.7695948976032687.\n",
      "[I 2025-05-14 20:14:03,143] Trial 1 finished with value: 0.848960477562783 and parameters: {'learning_rate': 0.04411178258555791, 'depth': 7, 'subsample': 0.7036076179243324, 'colsample_bylevel': 0.5571874774758767, 'min_data_in_leaf': 41}. Best is trial 1 with value: 0.848960477562783.\n",
      "[I 2025-05-14 20:14:06,565] Trial 2 finished with value: 0.7520838532568006 and parameters: {'learning_rate': 0.0019525197331073075, 'depth': 2, 'subsample': 0.6157234878608079, 'colsample_bylevel': 0.8764756118964314, 'min_data_in_leaf': 99}. Best is trial 1 with value: 0.848960477562783.\n",
      "[I 2025-05-14 20:14:10,108] Trial 3 finished with value: 0.7606607570557298 and parameters: {'learning_rate': 0.004284639612099276, 'depth': 2, 'subsample': 0.3593291290297659, 'colsample_bylevel': 0.2632417624565571, 'min_data_in_leaf': 33}. Best is trial 1 with value: 0.848960477562783.\n",
      "[I 2025-05-14 20:14:37,502] Trial 4 finished with value: 0.9241961606882085 and parameters: {'learning_rate': 0.037407556883985116, 'depth': 10, 'subsample': 0.5010608737862268, 'colsample_bylevel': 0.7438617148684018, 'min_data_in_leaf': 22}. Best is trial 4 with value: 0.9241961606882085.\n",
      "[I 2025-05-14 20:14:40,882] Trial 5 finished with value: 0.7622560172434439 and parameters: {'learning_rate': 0.004094638713554066, 'depth': 5, 'subsample': 0.05690572167143748, 'colsample_bylevel': 0.08118124521289732, 'min_data_in_leaf': 50}. Best is trial 4 with value: 0.9241961606882085.\n",
      "[I 2025-05-14 20:14:48,294] Trial 6 finished with value: 0.8144175287867619 and parameters: {'learning_rate': 0.019336553257918842, 'depth': 7, 'subsample': 0.7162122906371985, 'colsample_bylevel': 0.5444125108205239, 'min_data_in_leaf': 26}. Best is trial 4 with value: 0.9241961606882085.\n",
      "[I 2025-05-14 20:14:51,293] Trial 7 finished with value: 0.7617011644576344 and parameters: {'learning_rate': 0.0353265795863327, 'depth': 1, 'subsample': 0.36112086832257906, 'colsample_bylevel': 0.6540333216995641, 'min_data_in_leaf': 22}. Best is trial 4 with value: 0.9241961606882085.\n",
      "[I 2025-05-14 20:14:54,289] Trial 8 finished with value: 0.7488858040476365 and parameters: {'learning_rate': 0.0023875651818328356, 'depth': 1, 'subsample': 0.050621811263602406, 'colsample_bylevel': 0.955421761710918, 'min_data_in_leaf': 90}. Best is trial 4 with value: 0.9241961606882085.\n",
      "[I 2025-05-14 20:14:58,855] Trial 9 finished with value: 0.7765135412238365 and parameters: {'learning_rate': 0.007737449218287988, 'depth': 4, 'subsample': 0.6853632987900032, 'colsample_bylevel': 0.3702164405797053, 'min_data_in_leaf': 2}. Best is trial 4 with value: 0.9241961606882085.\n",
      "[I 2025-05-14 20:15:19,724] Trial 10 finished with value: 0.9514600130747439 and parameters: {'learning_rate': 0.09773199348448774, 'depth': 10, 'subsample': 0.39431028490966674, 'colsample_bylevel': 0.7529733495495601, 'min_data_in_leaf': 69}. Best is trial 10 with value: 0.9514600130747439.\n",
      "[I 2025-05-14 20:15:41,127] Trial 11 finished with value: 0.9506699643954013 and parameters: {'learning_rate': 0.08526580246229085, 'depth': 10, 'subsample': 0.394825081705269, 'colsample_bylevel': 0.749965102074055, 'min_data_in_leaf': 71}. Best is trial 10 with value: 0.9514600130747439.\n",
      "[I 2025-05-14 20:16:02,219] Trial 12 finished with value: 0.9512241618780468 and parameters: {'learning_rate': 0.09796073922051556, 'depth': 10, 'subsample': 0.3432625694176706, 'colsample_bylevel': 0.7083243376553604, 'min_data_in_leaf': 74}. Best is trial 10 with value: 0.9514600130747439.\n",
      "[I 2025-05-14 20:16:11,436] Trial 13 finished with value: 0.9174219536757301 and parameters: {'learning_rate': 0.09430795757666471, 'depth': 8, 'subsample': 0.2206389017813159, 'colsample_bylevel': 0.9882161304345068, 'min_data_in_leaf': 72}. Best is trial 10 with value: 0.9514600130747439.\n",
      "[I 2025-05-14 20:16:23,888] Trial 14 finished with value: 0.8435732746487884 and parameters: {'learning_rate': 0.017676905552849845, 'depth': 9, 'subsample': 0.24490392793160665, 'colsample_bylevel': 0.40489492159721996, 'min_data_in_leaf': 70}. Best is trial 10 with value: 0.9514600130747439.\n",
      "[I 2025-05-14 20:16:33,820] Trial 15 finished with value: 0.7733140246186113 and parameters: {'learning_rate': 0.0010280313540097616, 'depth': 8, 'subsample': 0.4897529221115844, 'colsample_bylevel': 0.6394118905865022, 'min_data_in_leaf': 60}. Best is trial 10 with value: 0.9514600130747439.\n",
      "[I 2025-05-14 20:16:55,117] Trial 16 finished with value: 0.9439719184555151 and parameters: {'learning_rate': 0.06022379707814281, 'depth': 10, 'subsample': 0.2236068716663116, 'colsample_bylevel': 0.6601414457358468, 'min_data_in_leaf': 84}. Best is trial 10 with value: 0.9514600130747439.\n",
      "[I 2025-05-14 20:17:03,719] Trial 17 finished with value: 0.8052363193545932 and parameters: {'learning_rate': 0.019630657323074088, 'depth': 6, 'subsample': 0.896252048372022, 'colsample_bylevel': 0.8400660531069732, 'min_data_in_leaf': 58}. Best is trial 10 with value: 0.9514600130747439.\n",
      "[I 2025-05-14 20:17:18,468] Trial 18 finished with value: 0.9208301306687163 and parameters: {'learning_rate': 0.062369256590960515, 'depth': 9, 'subsample': 0.2997241348843846, 'colsample_bylevel': 0.4089982285237438, 'min_data_in_leaf': 84}. Best is trial 10 with value: 0.9514600130747439.\n",
      "[I 2025-05-14 20:17:33,267] Trial 19 finished with value: 0.8295144641264177 and parameters: {'learning_rate': 0.012030835867016374, 'depth': 9, 'subsample': 0.13672781969308634, 'colsample_bylevel': 0.7570948320710176, 'min_data_in_leaf': 57}. Best is trial 10 with value: 0.9514600130747439.\n",
      "[I 2025-05-14 20:17:40,833] Trial 20 finished with value: 0.8153430798227294 and parameters: {'learning_rate': 0.03211999892471613, 'depth': 6, 'subsample': 0.4413050615494011, 'colsample_bylevel': 0.9073659779585866, 'min_data_in_leaf': 80}. Best is trial 10 with value: 0.9514600130747439.\n",
      "[I 2025-05-14 20:18:04,742] Trial 21 finished with value: 0.9502503810145874 and parameters: {'learning_rate': 0.0899678682561349, 'depth': 10, 'subsample': 0.581880161029518, 'colsample_bylevel': 0.7673410867415352, 'min_data_in_leaf': 70}. Best is trial 10 with value: 0.9514600130747439.\n",
      "[I 2025-05-14 20:18:16,639] Trial 22 finished with value: 0.8946816322249029 and parameters: {'learning_rate': 0.0651418908087127, 'depth': 8, 'subsample': 0.41708051601288193, 'colsample_bylevel': 0.6875549471156784, 'min_data_in_leaf': 75}. Best is trial 10 with value: 0.9514600130747439.\n",
      "[I 2025-05-14 20:18:39,941] Trial 23 finished with value: 0.9517060939714379 and parameters: {'learning_rate': 0.09961620774491757, 'depth': 10, 'subsample': 0.33095973140556967, 'colsample_bylevel': 0.557602797050017, 'min_data_in_leaf': 64}. Best is trial 23 with value: 0.9517060939714379.\n",
      "[I 2025-05-14 20:18:55,148] Trial 24 finished with value: 0.9080947238100255 and parameters: {'learning_rate': 0.05040211350597854, 'depth': 9, 'subsample': 0.28311287400212726, 'colsample_bylevel': 0.4850451649809912, 'min_data_in_leaf': 47}. Best is trial 23 with value: 0.9517060939714379.\n",
      "[I 2025-05-14 20:19:18,123] Trial 25 finished with value: 0.9512241618780468 and parameters: {'learning_rate': 0.09585799321678853, 'depth': 10, 'subsample': 0.17340761317481868, 'colsample_bylevel': 0.5841077118386643, 'min_data_in_leaf': 65}. Best is trial 23 with value: 0.9517060939714379.\n",
      "[I 2025-05-14 20:19:27,765] Trial 26 finished with value: 0.8198919249592169 and parameters: {'learning_rate': 0.02490297791803692, 'depth': 7, 'subsample': 0.3382325497477297, 'colsample_bylevel': 0.600685071298533, 'min_data_in_leaf': 98}. Best is trial 23 with value: 0.9517060939714379.\n",
      "[I 2025-05-14 20:19:39,629] Trial 27 finished with value: 0.8988545607398066 and parameters: {'learning_rate': 0.06791153588897883, 'depth': 8, 'subsample': 0.583121031517796, 'colsample_bylevel': 0.48915977609602773, 'min_data_in_leaf': 90}. Best is trial 23 with value: 0.9517060939714379.\n",
      "[I 2025-05-14 20:19:53,065] Trial 28 finished with value: 0.894442411251111 and parameters: {'learning_rate': 0.04710470389013958, 'depth': 9, 'subsample': 0.44535489753041535, 'colsample_bylevel': 0.2955211324589255, 'min_data_in_leaf': 60}. Best is trial 23 with value: 0.9517060939714379.\n",
      "[I 2025-05-14 20:20:16,917] Trial 29 finished with value: 0.8561457531434437 and parameters: {'learning_rate': 0.012245212096564668, 'depth': 10, 'subsample': 0.13407706050474402, 'colsample_bylevel': 0.8284997414297561, 'min_data_in_leaf': 41}. Best is trial 23 with value: 0.9517060939714379.\n"
     ]
    },
    {
     "name": "stdout",
     "output_type": "stream",
     "text": [
      "Best hyperparameters: {'learning_rate': 0.09961620774491757, 'depth': 10, 'subsample': 0.33095973140556967, 'colsample_bylevel': 0.557602797050017, 'min_data_in_leaf': 64}\n",
      "Best accuracy_score: 0.9517060939714379\n"
     ]
    }
   ],
   "execution_count": 33
  },
  {
   "metadata": {},
   "cell_type": "markdown",
   "source": "Torch NN"
  },
  {
   "metadata": {
    "ExecuteTime": {
     "end_time": "2025-05-14T17:45:24.572577Z",
     "start_time": "2025-05-14T17:45:05.027923Z"
    }
   },
   "cell_type": "code",
   "source": [
    "# Transform data into pytorch tensors\n",
    "X_train_tensor = torch.tensor(X_train.values, dtype=torch.float32)\n",
    "y_train_tensor = torch.tensor(y_train.values, dtype=torch.float32).reshape(-1, 1)\n",
    "X_test_tensor = torch.tensor(X_test.values, dtype=torch.float32)\n",
    "y_test_tensor = torch.tensor(y_test.values, dtype=torch.float32).reshape(-1, 1)\n",
    "\n",
    "# Build datasets for model\n",
    "train_dataset = TensorDataset(X_train_tensor, y_train_tensor)\n",
    "test_dataset = TensorDataset(X_test_tensor, y_test_tensor)\n",
    "train_loader = DataLoader(train_dataset, batch_size=200, shuffle=True)\n",
    "test_loader = DataLoader(test_dataset, batch_size=200)\n",
    "\n",
    "# Define model\n",
    "class NeuralNetwork(nn.Module):\n",
    "    def __init__(self, input_dim):\n",
    "        super(NeuralNetwork, self).__init__()\n",
    "        self.model = nn.Sequential(\n",
    "            nn.Linear(input_dim, 500),\n",
    "            nn.ReLU(),\n",
    "            nn.Linear(500, 50),\n",
    "            nn.ReLU(),\n",
    "            nn.Dropout(0.5),\n",
    "            nn.Linear(50, 5),\n",
    "            nn.ReLU(),\n",
    "            nn.Linear(5, 1),\n",
    "            nn.Sigmoid()\n",
    "        )\n",
    "\n",
    "    def forward(self, x):\n",
    "        return self.model(x)\n",
    "\n",
    "    def predict(self, x, threshold=0.5):\n",
    "        with torch.no_grad():\n",
    "            probabilities = self.model(x)\n",
    "            return (probabilities >= threshold).int()\n",
    "\n",
    "# init\n",
    "input_dim = X_train.shape[1]\n",
    "model = NeuralNetwork(input_dim)\n",
    "criterion = nn.BCELoss()\n",
    "optimizer = optim.Adam(model.parameters())\n",
    "\n",
    "# Main function\n",
    "def train_model(model, train_loader, valid_loader, criterion, optimizer, epochs=1000, patience=10, min_delta=0.001):\n",
    "    best_test_loss = float('inf')\n",
    "    best_weights = None\n",
    "    patience_counter = 0\n",
    "\n",
    "    for epoch in range(epochs):\n",
    "        # Train\n",
    "        model.train()\n",
    "        train_loss = 0\n",
    "        for X_batch, y_batch in train_loader:\n",
    "            optimizer.zero_grad()\n",
    "            y_pred = model(X_batch)\n",
    "            loss = criterion(y_pred, y_batch)\n",
    "            loss.backward()\n",
    "            optimizer.step()\n",
    "            train_loss += loss.item() * X_batch.size(0)\n",
    "        train_loss /= len(train_loader.dataset)\n",
    "\n",
    "        # Test\n",
    "        model.eval()\n",
    "        test_loss = 0\n",
    "        with torch.no_grad():\n",
    "            for X_batch, y_batch in valid_loader:\n",
    "                y_pred = model(X_batch)\n",
    "                loss = criterion(y_pred, y_batch)\n",
    "                test_loss += loss.item() * X_batch.size(0)\n",
    "        test_loss /= len(valid_loader.dataset)\n",
    "\n",
    "        # Progres report\n",
    "        print(f'Epoch {epoch+1}/{epochs}, Train Loss: {train_loss:.4f}, Valid Loss: {test_loss:.4f}')\n",
    "\n",
    "        # Early stop check\n",
    "        if test_loss < best_test_loss - min_delta:\n",
    "            best_test_loss = test_loss\n",
    "            best_weights = model.state_dict().copy()\n",
    "            patience_counter = 0\n",
    "        else:\n",
    "            patience_counter += 1\n",
    "\n",
    "        if patience_counter >= patience:\n",
    "            print(f'Early stop on epoch {epoch+1}')\n",
    "            model.load_state_dict(best_weights)\n",
    "            break\n",
    "\n",
    "    # Best weights restore\n",
    "    if best_weights is not None:\n",
    "        model.load_state_dict(best_weights)\n",
    "\n",
    "    return model\n",
    "\n",
    "# Model training\n",
    "torch_model = train_model(\n",
    "    model,\n",
    "    train_loader,\n",
    "    test_loader,\n",
    "    criterion,\n",
    "    optimizer,\n",
    "    epochs=1000,\n",
    "    patience=10,\n",
    "    min_delta=0.001\n",
    ")\n",
    "print(f'TorchNN accuracy_score - {accuracy_score(y_test_tensor, torch_model.predict(X_test_tensor))}')"
   ],
   "outputs": [
    {
     "name": "stdout",
     "output_type": "stream",
     "text": [
      "Epoch 1/1000, Train Loss: 0.5968, Valid Loss: 0.5717\n",
      "Epoch 2/1000, Train Loss: 0.5594, Valid Loss: 0.5571\n",
      "Epoch 3/1000, Train Loss: 0.5473, Valid Loss: 0.5510\n",
      "Epoch 4/1000, Train Loss: 0.5449, Valid Loss: 0.5494\n",
      "Epoch 5/1000, Train Loss: 0.5389, Valid Loss: 0.5443\n",
      "Epoch 6/1000, Train Loss: 0.5376, Valid Loss: 0.5446\n",
      "Epoch 7/1000, Train Loss: 0.5329, Valid Loss: 0.5401\n",
      "Epoch 8/1000, Train Loss: 0.5313, Valid Loss: 0.5394\n",
      "Epoch 9/1000, Train Loss: 0.5288, Valid Loss: 0.5409\n",
      "Epoch 10/1000, Train Loss: 0.5265, Valid Loss: 0.5374\n",
      "Epoch 11/1000, Train Loss: 0.5239, Valid Loss: 0.5359\n",
      "Epoch 12/1000, Train Loss: 0.5238, Valid Loss: 0.5356\n",
      "Epoch 13/1000, Train Loss: 0.5211, Valid Loss: 0.5355\n",
      "Epoch 14/1000, Train Loss: 0.5201, Valid Loss: 0.5345\n",
      "Epoch 15/1000, Train Loss: 0.5193, Valid Loss: 0.5337\n",
      "Epoch 16/1000, Train Loss: 0.5164, Valid Loss: 0.5336\n",
      "Epoch 17/1000, Train Loss: 0.5171, Valid Loss: 0.5328\n",
      "Epoch 18/1000, Train Loss: 0.5149, Valid Loss: 0.5328\n",
      "Epoch 19/1000, Train Loss: 0.5136, Valid Loss: 0.5358\n",
      "Epoch 20/1000, Train Loss: 0.5144, Valid Loss: 0.5306\n",
      "Epoch 21/1000, Train Loss: 0.5109, Valid Loss: 0.5332\n",
      "Epoch 22/1000, Train Loss: 0.5097, Valid Loss: 0.5330\n",
      "Epoch 23/1000, Train Loss: 0.5111, Valid Loss: 0.5340\n",
      "Epoch 24/1000, Train Loss: 0.5077, Valid Loss: 0.5315\n",
      "Epoch 25/1000, Train Loss: 0.5060, Valid Loss: 0.5325\n",
      "Epoch 26/1000, Train Loss: 0.5064, Valid Loss: 0.5291\n",
      "Epoch 27/1000, Train Loss: 0.5081, Valid Loss: 0.5362\n",
      "Epoch 28/1000, Train Loss: 0.5039, Valid Loss: 0.5323\n",
      "Epoch 29/1000, Train Loss: 0.5026, Valid Loss: 0.5322\n",
      "Epoch 30/1000, Train Loss: 0.5010, Valid Loss: 0.5302\n",
      "Epoch 31/1000, Train Loss: 0.5007, Valid Loss: 0.5329\n",
      "Epoch 32/1000, Train Loss: 0.5018, Valid Loss: 0.5323\n",
      "Epoch 33/1000, Train Loss: 0.4998, Valid Loss: 0.5336\n",
      "Epoch 34/1000, Train Loss: 0.4993, Valid Loss: 0.5340\n",
      "Epoch 35/1000, Train Loss: 0.4975, Valid Loss: 0.5334\n",
      "Epoch 36/1000, Train Loss: 0.4952, Valid Loss: 0.5327\n",
      "Early stop on epoch 36\n",
      "TorchNN accuracy_score - 0.731477323753929\n"
     ]
    }
   ],
   "execution_count": 42
  },
  {
   "cell_type": "markdown",
   "source": [
    "**Random Forest**"
   ],
   "metadata": {
    "id": "0rgvooH6ub4u"
   }
  },
  {
   "cell_type": "code",
   "source": [
    "def objective(trial):\n",
    "    params = {\n",
    "        \"n_estimators\": trial.suggest_int(name=\"n_estimators\", low=100, high=1000, step=100),\n",
    "        \"max_depth\": trial.suggest_int(name=\"max_depth\", low=10, high=110, step=20),\n",
    "        \"min_samples_split\": trial.suggest_int(name=\"min_samples_split\", low=2, high=10, step=2),\n",
    "        \"min_samples_leaf\": trial.suggest_int(name=\"min_samples_leaf\", low=1, high=4, step=1)\n",
    "    }\n",
    "    forest_model = RandomForestClassifier(random_state=RANDOM_STATE, **params)\n",
    "    forest_model.fit(X_train, y_train)\n",
    "    predictions = forest_model.predict(X)\n",
    "    score = f1_score(y, predictions)\n",
    "    return score\n",
    "forest_study = optuna.create_study(direction='maximize')\n",
    "forest_study.optimize(objective, n_trials=20)\n",
    "print(f'Best hyperparameters: {forest_study.best_params}')\n",
    "print(f'Best accuracy_score: {forest_study.best_value}')"
   ],
   "metadata": {
    "id": "BupOn9_KubaN",
    "colab": {
     "base_uri": "https://localhost:8080/"
    },
    "outputId": "8dee2159-dd1d-4d71-fdb6-93e106aa7260",
    "ExecuteTime": {
     "end_time": "2025-05-14T17:56:03.383317Z",
     "start_time": "2025-05-14T17:45:24.630131Z"
    }
   },
   "outputs": [
    {
     "name": "stderr",
     "output_type": "stream",
     "text": [
      "[I 2025-05-14 20:45:24,633] A new study created in memory with name: no-name-3929f957-2656-4c6d-bfeb-6a24694872cd\n",
      "[I 2025-05-14 20:45:37,175] Trial 0 finished with value: 0.906852077915185 and parameters: {'n_estimators': 200, 'max_depth': 30, 'min_samples_split': 10, 'min_samples_leaf': 4}. Best is trial 0 with value: 0.906852077915185.\n",
      "[I 2025-05-14 20:46:12,227] Trial 1 finished with value: 0.9347116137216269 and parameters: {'n_estimators': 500, 'max_depth': 90, 'min_samples_split': 10, 'min_samples_leaf': 1}. Best is trial 1 with value: 0.9347116137216269.\n",
      "[I 2025-05-14 20:46:48,737] Trial 2 finished with value: 0.8056222146040453 and parameters: {'n_estimators': 1000, 'max_depth': 10, 'min_samples_split': 8, 'min_samples_leaf': 3}. Best is trial 1 with value: 0.9347116137216269.\n",
      "[I 2025-05-14 20:47:14,418] Trial 3 finished with value: 0.9323636363636364 and parameters: {'n_estimators': 400, 'max_depth': 30, 'min_samples_split': 2, 'min_samples_leaf': 3}. Best is trial 1 with value: 0.9347116137216269.\n",
      "[I 2025-05-14 20:47:37,793] Trial 4 finished with value: 0.9522645149020567 and parameters: {'n_estimators': 300, 'max_depth': 110, 'min_samples_split': 4, 'min_samples_leaf': 1}. Best is trial 4 with value: 0.9522645149020567.\n",
      "[I 2025-05-14 20:48:17,656] Trial 5 finished with value: 0.9343514745959365 and parameters: {'n_estimators': 600, 'max_depth': 110, 'min_samples_split': 8, 'min_samples_leaf': 2}. Best is trial 4 with value: 0.9522645149020567.\n",
      "[I 2025-05-14 20:49:29,717] Trial 6 finished with value: 0.9517084034982889 and parameters: {'n_estimators': 1000, 'max_depth': 70, 'min_samples_split': 2, 'min_samples_leaf': 1}. Best is trial 4 with value: 0.9522645149020567.\n",
      "[I 2025-05-14 20:50:24,284] Trial 7 finished with value: 0.9497677198511234 and parameters: {'n_estimators': 800, 'max_depth': 50, 'min_samples_split': 2, 'min_samples_leaf': 2}. Best is trial 4 with value: 0.9522645149020567.\n",
      "[I 2025-05-14 20:50:56,801] Trial 8 finished with value: 0.8089827236517362 and parameters: {'n_estimators': 900, 'max_depth': 10, 'min_samples_split': 6, 'min_samples_leaf': 1}. Best is trial 4 with value: 0.9522645149020567.\n",
      "[I 2025-05-14 20:51:59,402] Trial 9 finished with value: 0.9259488061024416 and parameters: {'n_estimators': 900, 'max_depth': 110, 'min_samples_split': 8, 'min_samples_leaf': 3}. Best is trial 4 with value: 0.9522645149020567.\n",
      "[I 2025-05-14 20:52:06,986] Trial 10 finished with value: 0.947705848795197 and parameters: {'n_estimators': 100, 'max_depth': 90, 'min_samples_split': 4, 'min_samples_leaf': 2}. Best is trial 4 with value: 0.9522645149020567.\n",
      "[I 2025-05-14 20:52:29,946] Trial 11 finished with value: 0.9522645149020567 and parameters: {'n_estimators': 300, 'max_depth': 70, 'min_samples_split': 4, 'min_samples_leaf': 1}. Best is trial 4 with value: 0.9522645149020567.\n",
      "[I 2025-05-14 20:52:52,729] Trial 12 finished with value: 0.9522645149020567 and parameters: {'n_estimators': 300, 'max_depth': 70, 'min_samples_split': 4, 'min_samples_leaf': 1}. Best is trial 4 with value: 0.9522645149020567.\n",
      "[I 2025-05-14 20:53:15,388] Trial 13 finished with value: 0.9522645149020567 and parameters: {'n_estimators': 300, 'max_depth': 90, 'min_samples_split': 4, 'min_samples_leaf': 1}. Best is trial 4 with value: 0.9522645149020567.\n",
      "[I 2025-05-14 20:53:56,611] Trial 14 finished with value: 0.9433297180043384 and parameters: {'n_estimators': 600, 'max_depth': 50, 'min_samples_split': 6, 'min_samples_leaf': 2}. Best is trial 4 with value: 0.9522645149020567.\n",
      "[I 2025-05-14 20:54:02,863] Trial 15 finished with value: 0.9137668580584858 and parameters: {'n_estimators': 100, 'max_depth': 110, 'min_samples_split': 4, 'min_samples_leaf': 4}. Best is trial 4 with value: 0.9522645149020567.\n",
      "[I 2025-05-14 20:54:30,785] Trial 16 finished with value: 0.9501576258288944 and parameters: {'n_estimators': 400, 'max_depth': 70, 'min_samples_split': 6, 'min_samples_leaf': 1}. Best is trial 4 with value: 0.9522645149020567.\n",
      "[I 2025-05-14 20:54:50,928] Trial 17 finished with value: 0.9492787090113831 and parameters: {'n_estimators': 300, 'max_depth': 90, 'min_samples_split': 4, 'min_samples_leaf': 2}. Best is trial 4 with value: 0.9522645149020567.\n",
      "[I 2025-05-14 20:55:31,227] Trial 18 finished with value: 0.9512791266090924 and parameters: {'n_estimators': 500, 'max_depth': 50, 'min_samples_split': 2, 'min_samples_leaf': 1}. Best is trial 4 with value: 0.9522645149020567.\n",
      "[W 2025-05-14 20:56:02,481] Trial 19 failed with parameters: {'n_estimators': 700, 'max_depth': 110, 'min_samples_split': 4, 'min_samples_leaf': 2} because of the following error: KeyboardInterrupt().\n",
      "Traceback (most recent call last):\n",
      "  File \"C:\\Users\\lambe\\miniconda3\\Lib\\site-packages\\optuna\\study\\_optimize.py\", line 197, in _run_trial\n",
      "    value_or_values = func(trial)\n",
      "                      ^^^^^^^^^^^\n",
      "  File \"C:\\Users\\lambe\\AppData\\Local\\Temp\\ipykernel_21332\\630960446.py\", line 9, in objective\n",
      "    forest_model.fit(X_train, y_train)\n",
      "  File \"C:\\Users\\lambe\\miniconda3\\Lib\\site-packages\\sklearn\\base.py\", line 1473, in wrapper\n",
      "    return fit_method(estimator, *args, **kwargs)\n",
      "           ^^^^^^^^^^^^^^^^^^^^^^^^^^^^^^^^^^^^^^\n",
      "  File \"C:\\Users\\lambe\\miniconda3\\Lib\\site-packages\\sklearn\\ensemble\\_forest.py\", line 489, in fit\n",
      "    trees = Parallel(\n",
      "            ^^^^^^^^^\n",
      "  File \"C:\\Users\\lambe\\miniconda3\\Lib\\site-packages\\sklearn\\utils\\parallel.py\", line 74, in __call__\n",
      "    return super().__call__(iterable_with_config)\n",
      "           ^^^^^^^^^^^^^^^^^^^^^^^^^^^^^^^^^^^^^^\n",
      "  File \"C:\\Users\\lambe\\miniconda3\\Lib\\site-packages\\joblib\\parallel.py\", line 1918, in __call__\n",
      "    return output if self.return_generator else list(output)\n",
      "                                                ^^^^^^^^^^^^\n",
      "  File \"C:\\Users\\lambe\\miniconda3\\Lib\\site-packages\\joblib\\parallel.py\", line 1847, in _get_sequential_output\n",
      "    res = func(*args, **kwargs)\n",
      "          ^^^^^^^^^^^^^^^^^^^^^\n",
      "  File \"C:\\Users\\lambe\\miniconda3\\Lib\\site-packages\\sklearn\\utils\\parallel.py\", line 136, in __call__\n",
      "    return self.function(*args, **kwargs)\n",
      "           ^^^^^^^^^^^^^^^^^^^^^^^^^^^^^^\n",
      "  File \"C:\\Users\\lambe\\miniconda3\\Lib\\site-packages\\sklearn\\ensemble\\_forest.py\", line 192, in _parallel_build_trees\n",
      "    tree._fit(\n",
      "  File \"C:\\Users\\lambe\\miniconda3\\Lib\\site-packages\\sklearn\\tree\\_classes.py\", line 472, in _fit\n",
      "    builder.build(self.tree_, X, y, sample_weight, missing_values_in_feature_mask)\n",
      "KeyboardInterrupt\n",
      "[W 2025-05-14 20:56:02,487] Trial 19 failed with value None.\n"
     ]
    },
    {
     "ename": "KeyboardInterrupt",
     "evalue": "",
     "output_type": "error",
     "traceback": [
      "\u001B[31m---------------------------------------------------------------------------\u001B[39m",
      "\u001B[31mKeyboardInterrupt\u001B[39m                         Traceback (most recent call last)",
      "\u001B[36mCell\u001B[39m\u001B[36m \u001B[39m\u001B[32mIn[43]\u001B[39m\u001B[32m, line 14\u001B[39m\n\u001B[32m     12\u001B[39m     \u001B[38;5;28;01mreturn\u001B[39;00m score\n\u001B[32m     13\u001B[39m forest_study = optuna.create_study(direction=\u001B[33m'\u001B[39m\u001B[33mmaximize\u001B[39m\u001B[33m'\u001B[39m)\n\u001B[32m---> \u001B[39m\u001B[32m14\u001B[39m forest_study.optimize(objective, n_trials=\u001B[32m30\u001B[39m)\n\u001B[32m     15\u001B[39m \u001B[38;5;28mprint\u001B[39m(\u001B[33mf\u001B[39m\u001B[33m'\u001B[39m\u001B[33mBest hyperparameters: \u001B[39m\u001B[38;5;132;01m{\u001B[39;00mforest_study.best_params\u001B[38;5;132;01m}\u001B[39;00m\u001B[33m'\u001B[39m)\n\u001B[32m     16\u001B[39m \u001B[38;5;28mprint\u001B[39m(\u001B[33mf\u001B[39m\u001B[33m'\u001B[39m\u001B[33mBest accuracy_score: \u001B[39m\u001B[38;5;132;01m{\u001B[39;00mforest_study.best_value\u001B[38;5;132;01m}\u001B[39;00m\u001B[33m'\u001B[39m)\n",
      "\u001B[36mFile \u001B[39m\u001B[32m~\\miniconda3\\Lib\\site-packages\\optuna\\study\\study.py:475\u001B[39m, in \u001B[36mStudy.optimize\u001B[39m\u001B[34m(self, func, n_trials, timeout, n_jobs, catch, callbacks, gc_after_trial, show_progress_bar)\u001B[39m\n\u001B[32m    373\u001B[39m \u001B[38;5;28;01mdef\u001B[39;00m\u001B[38;5;250m \u001B[39m\u001B[34moptimize\u001B[39m(\n\u001B[32m    374\u001B[39m     \u001B[38;5;28mself\u001B[39m,\n\u001B[32m    375\u001B[39m     func: ObjectiveFuncType,\n\u001B[32m   (...)\u001B[39m\u001B[32m    382\u001B[39m     show_progress_bar: \u001B[38;5;28mbool\u001B[39m = \u001B[38;5;28;01mFalse\u001B[39;00m,\n\u001B[32m    383\u001B[39m ) -> \u001B[38;5;28;01mNone\u001B[39;00m:\n\u001B[32m    384\u001B[39m \u001B[38;5;250m    \u001B[39m\u001B[33;03m\"\"\"Optimize an objective function.\u001B[39;00m\n\u001B[32m    385\u001B[39m \n\u001B[32m    386\u001B[39m \u001B[33;03m    Optimization is done by choosing a suitable set of hyperparameter values from a given\u001B[39;00m\n\u001B[32m   (...)\u001B[39m\u001B[32m    473\u001B[39m \u001B[33;03m            If nested invocation of this method occurs.\u001B[39;00m\n\u001B[32m    474\u001B[39m \u001B[33;03m    \"\"\"\u001B[39;00m\n\u001B[32m--> \u001B[39m\u001B[32m475\u001B[39m     _optimize(\n\u001B[32m    476\u001B[39m         study=\u001B[38;5;28mself\u001B[39m,\n\u001B[32m    477\u001B[39m         func=func,\n\u001B[32m    478\u001B[39m         n_trials=n_trials,\n\u001B[32m    479\u001B[39m         timeout=timeout,\n\u001B[32m    480\u001B[39m         n_jobs=n_jobs,\n\u001B[32m    481\u001B[39m         catch=\u001B[38;5;28mtuple\u001B[39m(catch) \u001B[38;5;28;01mif\u001B[39;00m \u001B[38;5;28misinstance\u001B[39m(catch, Iterable) \u001B[38;5;28;01melse\u001B[39;00m (catch,),\n\u001B[32m    482\u001B[39m         callbacks=callbacks,\n\u001B[32m    483\u001B[39m         gc_after_trial=gc_after_trial,\n\u001B[32m    484\u001B[39m         show_progress_bar=show_progress_bar,\n\u001B[32m    485\u001B[39m     )\n",
      "\u001B[36mFile \u001B[39m\u001B[32m~\\miniconda3\\Lib\\site-packages\\optuna\\study\\_optimize.py:63\u001B[39m, in \u001B[36m_optimize\u001B[39m\u001B[34m(study, func, n_trials, timeout, n_jobs, catch, callbacks, gc_after_trial, show_progress_bar)\u001B[39m\n\u001B[32m     61\u001B[39m \u001B[38;5;28;01mtry\u001B[39;00m:\n\u001B[32m     62\u001B[39m     \u001B[38;5;28;01mif\u001B[39;00m n_jobs == \u001B[32m1\u001B[39m:\n\u001B[32m---> \u001B[39m\u001B[32m63\u001B[39m         _optimize_sequential(\n\u001B[32m     64\u001B[39m             study,\n\u001B[32m     65\u001B[39m             func,\n\u001B[32m     66\u001B[39m             n_trials,\n\u001B[32m     67\u001B[39m             timeout,\n\u001B[32m     68\u001B[39m             catch,\n\u001B[32m     69\u001B[39m             callbacks,\n\u001B[32m     70\u001B[39m             gc_after_trial,\n\u001B[32m     71\u001B[39m             reseed_sampler_rng=\u001B[38;5;28;01mFalse\u001B[39;00m,\n\u001B[32m     72\u001B[39m             time_start=\u001B[38;5;28;01mNone\u001B[39;00m,\n\u001B[32m     73\u001B[39m             progress_bar=progress_bar,\n\u001B[32m     74\u001B[39m         )\n\u001B[32m     75\u001B[39m     \u001B[38;5;28;01melse\u001B[39;00m:\n\u001B[32m     76\u001B[39m         \u001B[38;5;28;01mif\u001B[39;00m n_jobs == -\u001B[32m1\u001B[39m:\n",
      "\u001B[36mFile \u001B[39m\u001B[32m~\\miniconda3\\Lib\\site-packages\\optuna\\study\\_optimize.py:160\u001B[39m, in \u001B[36m_optimize_sequential\u001B[39m\u001B[34m(study, func, n_trials, timeout, catch, callbacks, gc_after_trial, reseed_sampler_rng, time_start, progress_bar)\u001B[39m\n\u001B[32m    157\u001B[39m         \u001B[38;5;28;01mbreak\u001B[39;00m\n\u001B[32m    159\u001B[39m \u001B[38;5;28;01mtry\u001B[39;00m:\n\u001B[32m--> \u001B[39m\u001B[32m160\u001B[39m     frozen_trial = _run_trial(study, func, catch)\n\u001B[32m    161\u001B[39m \u001B[38;5;28;01mfinally\u001B[39;00m:\n\u001B[32m    162\u001B[39m     \u001B[38;5;66;03m# The following line mitigates memory problems that can be occurred in some\u001B[39;00m\n\u001B[32m    163\u001B[39m     \u001B[38;5;66;03m# environments (e.g., services that use computing containers such as GitHub Actions).\u001B[39;00m\n\u001B[32m    164\u001B[39m     \u001B[38;5;66;03m# Please refer to the following PR for further details:\u001B[39;00m\n\u001B[32m    165\u001B[39m     \u001B[38;5;66;03m# https://github.com/optuna/optuna/pull/325.\u001B[39;00m\n\u001B[32m    166\u001B[39m     \u001B[38;5;28;01mif\u001B[39;00m gc_after_trial:\n",
      "\u001B[36mFile \u001B[39m\u001B[32m~\\miniconda3\\Lib\\site-packages\\optuna\\study\\_optimize.py:248\u001B[39m, in \u001B[36m_run_trial\u001B[39m\u001B[34m(study, func, catch)\u001B[39m\n\u001B[32m    241\u001B[39m         \u001B[38;5;28;01massert\u001B[39;00m \u001B[38;5;28;01mFalse\u001B[39;00m, \u001B[33m\"\u001B[39m\u001B[33mShould not reach.\u001B[39m\u001B[33m\"\u001B[39m\n\u001B[32m    243\u001B[39m \u001B[38;5;28;01mif\u001B[39;00m (\n\u001B[32m    244\u001B[39m     frozen_trial.state == TrialState.FAIL\n\u001B[32m    245\u001B[39m     \u001B[38;5;129;01mand\u001B[39;00m func_err \u001B[38;5;129;01mis\u001B[39;00m \u001B[38;5;129;01mnot\u001B[39;00m \u001B[38;5;28;01mNone\u001B[39;00m\n\u001B[32m    246\u001B[39m     \u001B[38;5;129;01mand\u001B[39;00m \u001B[38;5;129;01mnot\u001B[39;00m \u001B[38;5;28misinstance\u001B[39m(func_err, catch)\n\u001B[32m    247\u001B[39m ):\n\u001B[32m--> \u001B[39m\u001B[32m248\u001B[39m     \u001B[38;5;28;01mraise\u001B[39;00m func_err\n\u001B[32m    249\u001B[39m \u001B[38;5;28;01mreturn\u001B[39;00m frozen_trial\n",
      "\u001B[36mFile \u001B[39m\u001B[32m~\\miniconda3\\Lib\\site-packages\\optuna\\study\\_optimize.py:197\u001B[39m, in \u001B[36m_run_trial\u001B[39m\u001B[34m(study, func, catch)\u001B[39m\n\u001B[32m    195\u001B[39m \u001B[38;5;28;01mwith\u001B[39;00m get_heartbeat_thread(trial._trial_id, study._storage):\n\u001B[32m    196\u001B[39m     \u001B[38;5;28;01mtry\u001B[39;00m:\n\u001B[32m--> \u001B[39m\u001B[32m197\u001B[39m         value_or_values = func(trial)\n\u001B[32m    198\u001B[39m     \u001B[38;5;28;01mexcept\u001B[39;00m exceptions.TrialPruned \u001B[38;5;28;01mas\u001B[39;00m e:\n\u001B[32m    199\u001B[39m         \u001B[38;5;66;03m# TODO(mamu): Handle multi-objective cases.\u001B[39;00m\n\u001B[32m    200\u001B[39m         state = TrialState.PRUNED\n",
      "\u001B[36mCell\u001B[39m\u001B[36m \u001B[39m\u001B[32mIn[43]\u001B[39m\u001B[32m, line 9\u001B[39m, in \u001B[36mobjective\u001B[39m\u001B[34m(trial)\u001B[39m\n\u001B[32m      2\u001B[39m params = {\n\u001B[32m      3\u001B[39m     \u001B[33m\"\u001B[39m\u001B[33mn_estimators\u001B[39m\u001B[33m\"\u001B[39m: trial.suggest_int(name=\u001B[33m\"\u001B[39m\u001B[33mn_estimators\u001B[39m\u001B[33m\"\u001B[39m, low=\u001B[32m100\u001B[39m, high=\u001B[32m1000\u001B[39m, step=\u001B[32m100\u001B[39m),\n\u001B[32m      4\u001B[39m     \u001B[33m\"\u001B[39m\u001B[33mmax_depth\u001B[39m\u001B[33m\"\u001B[39m: trial.suggest_int(name=\u001B[33m\"\u001B[39m\u001B[33mmax_depth\u001B[39m\u001B[33m\"\u001B[39m, low=\u001B[32m10\u001B[39m, high=\u001B[32m110\u001B[39m, step=\u001B[32m20\u001B[39m),\n\u001B[32m      5\u001B[39m     \u001B[33m\"\u001B[39m\u001B[33mmin_samples_split\u001B[39m\u001B[33m\"\u001B[39m: trial.suggest_int(name=\u001B[33m\"\u001B[39m\u001B[33mmin_samples_split\u001B[39m\u001B[33m\"\u001B[39m, low=\u001B[32m2\u001B[39m, high=\u001B[32m10\u001B[39m, step=\u001B[32m2\u001B[39m),\n\u001B[32m      6\u001B[39m     \u001B[33m\"\u001B[39m\u001B[33mmin_samples_leaf\u001B[39m\u001B[33m\"\u001B[39m: trial.suggest_int(name=\u001B[33m\"\u001B[39m\u001B[33mmin_samples_leaf\u001B[39m\u001B[33m\"\u001B[39m, low=\u001B[32m1\u001B[39m, high=\u001B[32m4\u001B[39m, step=\u001B[32m1\u001B[39m)\n\u001B[32m      7\u001B[39m }\n\u001B[32m      8\u001B[39m forest_model = RandomForestClassifier(random_state=RANDOM_STATE, **params)\n\u001B[32m----> \u001B[39m\u001B[32m9\u001B[39m forest_model.fit(X_train, y_train)\n\u001B[32m     10\u001B[39m predictions = forest_model.predict(X)\n\u001B[32m     11\u001B[39m score = f1_score(y, predictions)\n",
      "\u001B[36mFile \u001B[39m\u001B[32m~\\miniconda3\\Lib\\site-packages\\sklearn\\base.py:1473\u001B[39m, in \u001B[36m_fit_context.<locals>.decorator.<locals>.wrapper\u001B[39m\u001B[34m(estimator, *args, **kwargs)\u001B[39m\n\u001B[32m   1466\u001B[39m     estimator._validate_params()\n\u001B[32m   1468\u001B[39m \u001B[38;5;28;01mwith\u001B[39;00m config_context(\n\u001B[32m   1469\u001B[39m     skip_parameter_validation=(\n\u001B[32m   1470\u001B[39m         prefer_skip_nested_validation \u001B[38;5;129;01mor\u001B[39;00m global_skip_validation\n\u001B[32m   1471\u001B[39m     )\n\u001B[32m   1472\u001B[39m ):\n\u001B[32m-> \u001B[39m\u001B[32m1473\u001B[39m     \u001B[38;5;28;01mreturn\u001B[39;00m fit_method(estimator, *args, **kwargs)\n",
      "\u001B[36mFile \u001B[39m\u001B[32m~\\miniconda3\\Lib\\site-packages\\sklearn\\ensemble\\_forest.py:489\u001B[39m, in \u001B[36mBaseForest.fit\u001B[39m\u001B[34m(self, X, y, sample_weight)\u001B[39m\n\u001B[32m    478\u001B[39m trees = [\n\u001B[32m    479\u001B[39m     \u001B[38;5;28mself\u001B[39m._make_estimator(append=\u001B[38;5;28;01mFalse\u001B[39;00m, random_state=random_state)\n\u001B[32m    480\u001B[39m     \u001B[38;5;28;01mfor\u001B[39;00m i \u001B[38;5;129;01min\u001B[39;00m \u001B[38;5;28mrange\u001B[39m(n_more_estimators)\n\u001B[32m    481\u001B[39m ]\n\u001B[32m    483\u001B[39m \u001B[38;5;66;03m# Parallel loop: we prefer the threading backend as the Cython code\u001B[39;00m\n\u001B[32m    484\u001B[39m \u001B[38;5;66;03m# for fitting the trees is internally releasing the Python GIL\u001B[39;00m\n\u001B[32m    485\u001B[39m \u001B[38;5;66;03m# making threading more efficient than multiprocessing in\u001B[39;00m\n\u001B[32m    486\u001B[39m \u001B[38;5;66;03m# that case. However, for joblib 0.12+ we respect any\u001B[39;00m\n\u001B[32m    487\u001B[39m \u001B[38;5;66;03m# parallel_backend contexts set at a higher level,\u001B[39;00m\n\u001B[32m    488\u001B[39m \u001B[38;5;66;03m# since correctness does not rely on using threads.\u001B[39;00m\n\u001B[32m--> \u001B[39m\u001B[32m489\u001B[39m trees = Parallel(\n\u001B[32m    490\u001B[39m     n_jobs=\u001B[38;5;28mself\u001B[39m.n_jobs,\n\u001B[32m    491\u001B[39m     verbose=\u001B[38;5;28mself\u001B[39m.verbose,\n\u001B[32m    492\u001B[39m     prefer=\u001B[33m\"\u001B[39m\u001B[33mthreads\u001B[39m\u001B[33m\"\u001B[39m,\n\u001B[32m    493\u001B[39m )(\n\u001B[32m    494\u001B[39m     delayed(_parallel_build_trees)(\n\u001B[32m    495\u001B[39m         t,\n\u001B[32m    496\u001B[39m         \u001B[38;5;28mself\u001B[39m.bootstrap,\n\u001B[32m    497\u001B[39m         X,\n\u001B[32m    498\u001B[39m         y,\n\u001B[32m    499\u001B[39m         sample_weight,\n\u001B[32m    500\u001B[39m         i,\n\u001B[32m    501\u001B[39m         \u001B[38;5;28mlen\u001B[39m(trees),\n\u001B[32m    502\u001B[39m         verbose=\u001B[38;5;28mself\u001B[39m.verbose,\n\u001B[32m    503\u001B[39m         class_weight=\u001B[38;5;28mself\u001B[39m.class_weight,\n\u001B[32m    504\u001B[39m         n_samples_bootstrap=n_samples_bootstrap,\n\u001B[32m    505\u001B[39m         missing_values_in_feature_mask=missing_values_in_feature_mask,\n\u001B[32m    506\u001B[39m     )\n\u001B[32m    507\u001B[39m     \u001B[38;5;28;01mfor\u001B[39;00m i, t \u001B[38;5;129;01min\u001B[39;00m \u001B[38;5;28menumerate\u001B[39m(trees)\n\u001B[32m    508\u001B[39m )\n\u001B[32m    510\u001B[39m \u001B[38;5;66;03m# Collect newly grown trees\u001B[39;00m\n\u001B[32m    511\u001B[39m \u001B[38;5;28mself\u001B[39m.estimators_.extend(trees)\n",
      "\u001B[36mFile \u001B[39m\u001B[32m~\\miniconda3\\Lib\\site-packages\\sklearn\\utils\\parallel.py:74\u001B[39m, in \u001B[36mParallel.__call__\u001B[39m\u001B[34m(self, iterable)\u001B[39m\n\u001B[32m     69\u001B[39m config = get_config()\n\u001B[32m     70\u001B[39m iterable_with_config = (\n\u001B[32m     71\u001B[39m     (_with_config(delayed_func, config), args, kwargs)\n\u001B[32m     72\u001B[39m     \u001B[38;5;28;01mfor\u001B[39;00m delayed_func, args, kwargs \u001B[38;5;129;01min\u001B[39;00m iterable\n\u001B[32m     73\u001B[39m )\n\u001B[32m---> \u001B[39m\u001B[32m74\u001B[39m \u001B[38;5;28;01mreturn\u001B[39;00m \u001B[38;5;28msuper\u001B[39m().\u001B[34m__call__\u001B[39m(iterable_with_config)\n",
      "\u001B[36mFile \u001B[39m\u001B[32m~\\miniconda3\\Lib\\site-packages\\joblib\\parallel.py:1918\u001B[39m, in \u001B[36mParallel.__call__\u001B[39m\u001B[34m(self, iterable)\u001B[39m\n\u001B[32m   1916\u001B[39m     output = \u001B[38;5;28mself\u001B[39m._get_sequential_output(iterable)\n\u001B[32m   1917\u001B[39m     \u001B[38;5;28mnext\u001B[39m(output)\n\u001B[32m-> \u001B[39m\u001B[32m1918\u001B[39m     \u001B[38;5;28;01mreturn\u001B[39;00m output \u001B[38;5;28;01mif\u001B[39;00m \u001B[38;5;28mself\u001B[39m.return_generator \u001B[38;5;28;01melse\u001B[39;00m \u001B[38;5;28mlist\u001B[39m(output)\n\u001B[32m   1920\u001B[39m \u001B[38;5;66;03m# Let's create an ID that uniquely identifies the current call. If the\u001B[39;00m\n\u001B[32m   1921\u001B[39m \u001B[38;5;66;03m# call is interrupted early and that the same instance is immediately\u001B[39;00m\n\u001B[32m   1922\u001B[39m \u001B[38;5;66;03m# re-used, this id will be used to prevent workers that were\u001B[39;00m\n\u001B[32m   1923\u001B[39m \u001B[38;5;66;03m# concurrently finalizing a task from the previous call to run the\u001B[39;00m\n\u001B[32m   1924\u001B[39m \u001B[38;5;66;03m# callback.\u001B[39;00m\n\u001B[32m   1925\u001B[39m \u001B[38;5;28;01mwith\u001B[39;00m \u001B[38;5;28mself\u001B[39m._lock:\n",
      "\u001B[36mFile \u001B[39m\u001B[32m~\\miniconda3\\Lib\\site-packages\\joblib\\parallel.py:1847\u001B[39m, in \u001B[36mParallel._get_sequential_output\u001B[39m\u001B[34m(self, iterable)\u001B[39m\n\u001B[32m   1845\u001B[39m \u001B[38;5;28mself\u001B[39m.n_dispatched_batches += \u001B[32m1\u001B[39m\n\u001B[32m   1846\u001B[39m \u001B[38;5;28mself\u001B[39m.n_dispatched_tasks += \u001B[32m1\u001B[39m\n\u001B[32m-> \u001B[39m\u001B[32m1847\u001B[39m res = func(*args, **kwargs)\n\u001B[32m   1848\u001B[39m \u001B[38;5;28mself\u001B[39m.n_completed_tasks += \u001B[32m1\u001B[39m\n\u001B[32m   1849\u001B[39m \u001B[38;5;28mself\u001B[39m.print_progress()\n",
      "\u001B[36mFile \u001B[39m\u001B[32m~\\miniconda3\\Lib\\site-packages\\sklearn\\utils\\parallel.py:136\u001B[39m, in \u001B[36m_FuncWrapper.__call__\u001B[39m\u001B[34m(self, *args, **kwargs)\u001B[39m\n\u001B[32m    134\u001B[39m     config = {}\n\u001B[32m    135\u001B[39m \u001B[38;5;28;01mwith\u001B[39;00m config_context(**config):\n\u001B[32m--> \u001B[39m\u001B[32m136\u001B[39m     \u001B[38;5;28;01mreturn\u001B[39;00m \u001B[38;5;28mself\u001B[39m.function(*args, **kwargs)\n",
      "\u001B[36mFile \u001B[39m\u001B[32m~\\miniconda3\\Lib\\site-packages\\sklearn\\ensemble\\_forest.py:192\u001B[39m, in \u001B[36m_parallel_build_trees\u001B[39m\u001B[34m(tree, bootstrap, X, y, sample_weight, tree_idx, n_trees, verbose, class_weight, n_samples_bootstrap, missing_values_in_feature_mask)\u001B[39m\n\u001B[32m    189\u001B[39m     \u001B[38;5;28;01melif\u001B[39;00m class_weight == \u001B[33m\"\u001B[39m\u001B[33mbalanced_subsample\u001B[39m\u001B[33m\"\u001B[39m:\n\u001B[32m    190\u001B[39m         curr_sample_weight *= compute_sample_weight(\u001B[33m\"\u001B[39m\u001B[33mbalanced\u001B[39m\u001B[33m\"\u001B[39m, y, indices=indices)\n\u001B[32m--> \u001B[39m\u001B[32m192\u001B[39m     tree._fit(\n\u001B[32m    193\u001B[39m         X,\n\u001B[32m    194\u001B[39m         y,\n\u001B[32m    195\u001B[39m         sample_weight=curr_sample_weight,\n\u001B[32m    196\u001B[39m         check_input=\u001B[38;5;28;01mFalse\u001B[39;00m,\n\u001B[32m    197\u001B[39m         missing_values_in_feature_mask=missing_values_in_feature_mask,\n\u001B[32m    198\u001B[39m     )\n\u001B[32m    199\u001B[39m \u001B[38;5;28;01melse\u001B[39;00m:\n\u001B[32m    200\u001B[39m     tree._fit(\n\u001B[32m    201\u001B[39m         X,\n\u001B[32m    202\u001B[39m         y,\n\u001B[32m   (...)\u001B[39m\u001B[32m    205\u001B[39m         missing_values_in_feature_mask=missing_values_in_feature_mask,\n\u001B[32m    206\u001B[39m     )\n",
      "\u001B[36mFile \u001B[39m\u001B[32m~\\miniconda3\\Lib\\site-packages\\sklearn\\tree\\_classes.py:472\u001B[39m, in \u001B[36mBaseDecisionTree._fit\u001B[39m\u001B[34m(self, X, y, sample_weight, check_input, missing_values_in_feature_mask)\u001B[39m\n\u001B[32m    461\u001B[39m \u001B[38;5;28;01melse\u001B[39;00m:\n\u001B[32m    462\u001B[39m     builder = BestFirstTreeBuilder(\n\u001B[32m    463\u001B[39m         splitter,\n\u001B[32m    464\u001B[39m         min_samples_split,\n\u001B[32m   (...)\u001B[39m\u001B[32m    469\u001B[39m         \u001B[38;5;28mself\u001B[39m.min_impurity_decrease,\n\u001B[32m    470\u001B[39m     )\n\u001B[32m--> \u001B[39m\u001B[32m472\u001B[39m builder.build(\u001B[38;5;28mself\u001B[39m.tree_, X, y, sample_weight, missing_values_in_feature_mask)\n\u001B[32m    474\u001B[39m \u001B[38;5;28;01mif\u001B[39;00m \u001B[38;5;28mself\u001B[39m.n_outputs_ == \u001B[32m1\u001B[39m \u001B[38;5;129;01mand\u001B[39;00m is_classifier(\u001B[38;5;28mself\u001B[39m):\n\u001B[32m    475\u001B[39m     \u001B[38;5;28mself\u001B[39m.n_classes_ = \u001B[38;5;28mself\u001B[39m.n_classes_[\u001B[32m0\u001B[39m]\n",
      "\u001B[31mKeyboardInterrupt\u001B[39m: "
     ]
    }
   ],
   "execution_count": 43
  },
  {
   "cell_type": "markdown",
   "source": [
    "The accuracy for the random forest model is 0.74"
   ],
   "metadata": {
    "id": "5pDmndldZuJg"
   }
  },
  {
   "cell_type": "markdown",
   "source": [
    "We choose Random Forest as our final model."
   ],
   "metadata": {
    "id": "t2PUEs1Udh45"
   }
  },
  {
   "cell_type": "markdown",
   "source": [
    "# **Model Implementation Part 2: Random Forest Model**"
   ],
   "metadata": {
    "id": "BUXQdSKsh916"
   }
  },
  {
   "cell_type": "code",
   "source": [
    "rf = RandomForestClassifier()\n",
    "rf.fit(X_train, y_train)\n"
   ],
   "metadata": {
    "colab": {
     "base_uri": "https://localhost:8080/"
    },
    "id": "DKG1UkB9h8Ks",
    "outputId": "0b36004a-b7ec-4085-baa4-c29569987211"
   },
   "outputs": [],
   "execution_count": null
  },
  {
   "cell_type": "markdown",
   "source": [
    "**Importance of the variables**"
   ],
   "metadata": {
    "id": "bT-DK7c2ntr5"
   }
  },
  {
   "cell_type": "code",
   "source": [
    "#feature importance\n",
    "importances = list(rf.feature_importances_)\n",
    "\n",
    "feature_importances = [(feature, round(importance, 2)) for feature, importance in zip(X.columns, importances)]\n",
    "feature_importances"
   ],
   "metadata": {
    "colab": {
     "base_uri": "https://localhost:8080/"
    },
    "id": "3ujxn8AZkixG",
    "outputId": "e1c5fb0f-d3b9-46a8-c3ac-8b44d9594431"
   },
   "outputs": [],
   "execution_count": null
  },
  {
   "cell_type": "code",
   "source": [
    "#plotting feature importance\n",
    "feat_importances_plot = pd.Series(rf.feature_importances_, index=X.columns)\n",
    "feat_importances_plot.plot(kind='barh')\n",
    "plt.ylabel(\"Predictors\")\n",
    "plt.xlabel(\"Feature Importance\")"
   ],
   "metadata": {
    "colab": {
     "base_uri": "https://localhost:8080/",
     "height": 901
    },
    "id": "vSnQ-lm0q8Dc",
    "outputId": "ac31c8af-9f21-49db-a3c5-5d25d3a03b7f"
   },
   "outputs": [],
   "execution_count": null
  },
  {
   "cell_type": "code",
   "source": [
    "#dropping 3 less important predictors\n",
    "X_reduced = X.drop(labels=['key', 'mode', 'sections'], axis=1)\n",
    "X_reduced"
   ],
   "metadata": {
    "colab": {
     "base_uri": "https://localhost:8080/",
     "height": 423
    },
    "id": "pDuKqZcJlPRg",
    "outputId": "d5cf3782-2b08-4ce7-ad6b-19c92cd59bb8"
   },
   "outputs": [],
   "execution_count": null
  },
  {
   "cell_type": "code",
   "source": [
    "X_red_train, X_red_test, y_red_train , y_red_test = train_test_split(X_reduced, y, test_size=0.2, random_state=1)"
   ],
   "metadata": {
    "id": "MWZ1S6Wpl0F8"
   },
   "outputs": [],
   "execution_count": null
  },
  {
   "cell_type": "code",
   "source": [
    "cross_val_score(RandomForestClassifier(),X_red_train, y_red_train,cv=5)"
   ],
   "metadata": {
    "colab": {
     "base_uri": "https://localhost:8080/"
    },
    "id": "gCXUc2VDpmYm",
    "outputId": "185b5358-643c-4fdb-d2b0-74a422149794"
   },
   "outputs": [],
   "execution_count": null
  },
  {
   "cell_type": "code",
   "source": [
    "np.mean([0.73409431, 0.72735778, 0.73671407, 0.73353293, 0.73484281])"
   ],
   "metadata": {
    "colab": {
     "base_uri": "https://localhost:8080/"
    },
    "id": "RITs09WsqVSL",
    "outputId": "ac8e5adb-2969-46c9-8e8e-619ad7b9e176"
   },
   "outputs": [],
   "execution_count": null
  },
  {
   "cell_type": "markdown",
   "source": [
    "The accuracy is decreased by 0.006 and the running time is reduced by 1 second, therefore we will not use this trade off in our model and we will continue to use all the features."
   ],
   "metadata": {
    "id": "P3lS4MQ2nE75"
   }
  },
  {
   "cell_type": "markdown",
   "source": [
    "**PCA**"
   ],
   "metadata": {
    "id": "WErIjC12nyA-"
   }
  },
  {
   "cell_type": "code",
   "source": [
    "from sklearn.decomposition import PCA\n",
    "\n",
    "pca_test = PCA(n_components=12)\n",
    "pca_test.fit(X_train)\n",
    "sns.set(style='whitegrid')\n",
    "sns.set(rc={'figure.figsize':(8,6)})\n",
    "\n",
    "plt.plot(np.cumsum(pca_test.explained_variance_ratio_))\n",
    "plt.xlabel('number of components')\n",
    "plt.ylabel('cumulative explained variance')\n",
    "display(plt.show())"
   ],
   "metadata": {
    "colab": {
     "base_uri": "https://localhost:8080/",
     "height": 412
    },
    "id": "5sTZmvcin0jg",
    "outputId": "cfdf52ee-794e-43cb-a3f3-d96789a7a241"
   },
   "outputs": [],
   "execution_count": null
  },
  {
   "cell_type": "markdown",
   "source": [
    "We Can use 7 principle components to capture 90% of the total variance."
   ],
   "metadata": {
    "id": "ltEm_mqPp-hk"
   }
  },
  {
   "cell_type": "code",
   "source": [
    "pca = PCA(n_components=7)\n",
    "pca.fit(X_train)\n",
    "X_train_pca = pca.transform(X_train)\n",
    "X_test_pca = pca.transform(X_test)"
   ],
   "metadata": {
    "id": "VMP9PY2WqPXP"
   },
   "outputs": [],
   "execution_count": null
  },
  {
   "cell_type": "code",
   "source": [
    "cross_val_score(RandomForestClassifier(),X_train_pca, y_train,cv=5)"
   ],
   "metadata": {
    "colab": {
     "base_uri": "https://localhost:8080/"
    },
    "id": "ANwNYFcQquLv",
    "outputId": "a3d3e140-dd38-4a55-cf77-579bc66bb348"
   },
   "outputs": [],
   "execution_count": null
  },
  {
   "cell_type": "code",
   "source": [
    "np.mean([0.68712575, 0.68731287, 0.67477545, 0.68787425, 0.6925524 ])"
   ],
   "metadata": {
    "colab": {
     "base_uri": "https://localhost:8080/"
    },
    "id": "rJ5LAYyytACG",
    "outputId": "c2df7bc9-26a3-45fa-b99e-63d4198fa73f"
   },
   "outputs": [],
   "execution_count": null
  },
  {
   "cell_type": "markdown",
   "source": [
    "It can be seen that the performance of the model is not enhanced with dimension reduction."
   ],
   "metadata": {
    "id": "rfbSKN9HrFDX"
   }
  },
  {
   "cell_type": "markdown",
   "source": [
    "Hyperparameter"
   ],
   "metadata": {
    "id": "fDt9a8W6m0lf"
   }
  },
  {
   "cell_type": "code",
   "source": [
    "from sklearn.model_selection import RandomizedSearchCV\n",
    "\n",
    "#number of trees in the model\n",
    "n_estimators = [int(x) for x in np.linspace(start = 100, stop = 1000, num = 10)]\n",
    "\n",
    "#maximum number of splits for each tree\n",
    "max_depth = [int(x) for x in np.linspace(start = 1, stop = 15, num = 15)]\n",
    "\n",
    "#minimum number of cases required before splitting\n",
    "min_samples_split = [int(x) for x in np.linspace(start = 2, stop = 50, num = 10)]\n",
    "\n",
    "#minimum number required in each leaf at the end\n",
    "min_samples_leaf = [int(x) for x in np.linspace(start = 2, stop = 50, num = 10)]\n",
    "\n",
    "bootstrap = [True, False]\n",
    "\n",
    "param_dist = {'n_estimators': n_estimators,\n",
    "               'max_depth': max_depth,\n",
    "               'min_samples_split': min_samples_split,\n",
    "               'min_samples_leaf': min_samples_leaf,\n",
    "               'bootstrap': bootstrap}\n",
    "\n",
    "               "
   ],
   "metadata": {
    "id": "puFaqr7Zrf54"
   },
   "outputs": [],
   "execution_count": null
  },
  {
   "cell_type": "code",
   "source": [
    "rf_rs = RandomizedSearchCV(rf, \n",
    "                        param_dist, \n",
    "                        n_iter = 40, \n",
    "                        cv = 3, \n",
    "                        n_jobs=-1, \n",
    "                        random_state=1)\n",
    "rf_rs.fit(X_train, y_train)\n",
    "rf_rs.best_params_\n"
   ],
   "metadata": {
    "colab": {
     "base_uri": "https://localhost:8080/"
    },
    "id": "1lDnuSt8sg1B",
    "outputId": "eeafea1f-4951-40e4-c3e2-b25a975b0069"
   },
   "outputs": [],
   "execution_count": null
  },
  {
   "cell_type": "code",
   "source": [
    "random_df = pd.DataFrame(rf_rs.cv_results_).sort_values('rank_test_score').reset_index(drop=True)\n",
    "random_df = random_df.drop([\n",
    "            'mean_fit_time', \n",
    "            'std_fit_time', \n",
    "            'mean_score_time',\n",
    "            'std_score_time', \n",
    "            'params', \n",
    "            'split0_test_score', \n",
    "            'split1_test_score', \n",
    "            'split2_test_score', \n",
    "            'std_test_score'],\n",
    "            axis=1)"
   ],
   "metadata": {
    "id": "Gf0TEdxVft-L"
   },
   "outputs": [],
   "execution_count": null
  },
  {
   "cell_type": "code",
   "source": [
    "fig, axs = plt.subplots(ncols=3, nrows=2)\n",
    "sns.set(style=\"whitegrid\", color_codes=True, font_scale = 1)\n",
    "fig.set_size_inches(18,18)\n",
    "\n",
    "sns.barplot(x='param_n_estimators', y='mean_test_score', data=random_df, ax=axs[0,0], color='lightgrey')\n",
    "axs[0,0].set_ylim([.65,.75])\n",
    "axs[0,0].set_title(label = 'n_estimators', size=10, weight='bold')\n",
    "\n",
    "sns.barplot(x='param_min_samples_split', y='mean_test_score', data=random_df, ax=axs[0,1], color='coral')\n",
    "axs[0,1].set_ylim([.65,.75])\n",
    "axs[0,1].set_title(label = 'min_samples_split', size=10, weight='bold')\n",
    "\n",
    "sns.barplot(x='param_min_samples_leaf', y='mean_test_score', data=random_df, ax=axs[0,2], color='lightgreen')\n",
    "axs[0,2].set_ylim([.65,.75])\n",
    "axs[0,2].set_title(label = 'min_samples_leaf', size=10, weight='bold')\n",
    "\n",
    "\n",
    "sns.barplot(x='param_max_depth', y='mean_test_score', data=random_df, ax=axs[1,1], color='lightpink')\n",
    "axs[1,1].set_ylim([.65,.75])\n",
    "axs[1,1].set_title(label = 'max_depth', size=10, weight='bold')\n",
    "\n",
    "sns.barplot(x='param_bootstrap',y='mean_test_score', data=random_df, ax=axs[1,2], color='skyblue')\n",
    "axs[1,2].set_ylim([.65,.75])\n",
    "axs[1,2].set_title(label = 'bootstrap', size=10, weight='bold')\n",
    "\n",
    "axs[1,0].set_axis_off()\n",
    "plt.show()"
   ],
   "metadata": {
    "colab": {
     "base_uri": "https://localhost:8080/",
     "height": 1000
    },
    "id": "ITCjDmzJgXuE",
    "outputId": "ef25b81e-b7db-4594-afb5-8ac10923a8ab"
   },
   "outputs": [],
   "execution_count": null
  },
  {
   "cell_type": "markdown",
   "source": [
    "From the results for the number of estimators we choose [400,900].\n",
    "For min sample split we choose [2,12,28].\n",
    "For min sample leaf we choose [28,34].\n",
    "For max depth we choose [12,13].\n",
    "And we choose bootstrap False."
   ],
   "metadata": {
    "id": "JT4o8kvqjNOF"
   }
  },
  {
   "cell_type": "code",
   "source": [
    "grid = {'bootstrap': [False],\n",
    " 'max_depth': [12,13],\n",
    " 'max_features': ['auto', 'sqrt'],\n",
    " 'min_samples_leaf': [28, 34],\n",
    " 'min_samples_split': [2, 12, 28],\n",
    " 'n_estimators': [ 400, 900]}"
   ],
   "metadata": {
    "id": "FnpCCrmHkAWf"
   },
   "outputs": [],
   "execution_count": null
  },
  {
   "cell_type": "code",
   "source": [
    "gs = GridSearchCV(rf, grid, cv = 3, verbose = 1, n_jobs=-1)\n",
    "gs.fit(X_train, y_train)\n",
    "rfc_3 = gs.best_estimator_\n",
    "gs.best_params_"
   ],
   "metadata": {
    "colab": {
     "base_uri": "https://localhost:8080/"
    },
    "id": "UoQfY6AWkfco",
    "outputId": "c21a4fe5-c8b7-4e7f-c918-62577f8bc5bb"
   },
   "outputs": [],
   "execution_count": null
  },
  {
   "cell_type": "code",
   "source": [
    "y_pred = gs.best_estimator_.predict(X_test)\n",
    "accuracy_score(y_test,y_pred)"
   ],
   "metadata": {
    "colab": {
     "base_uri": "https://localhost:8080/"
    },
    "id": "RAzgf3dH87Ib",
    "outputId": "023fc9c2-1029-48a6-c91c-20cc971075cf"
   },
   "outputs": [],
   "execution_count": null
  },
  {
   "cell_type": "code",
   "source": [
    "sum(y_test == 1)"
   ],
   "metadata": {
    "colab": {
     "base_uri": "https://localhost:8080/"
    },
    "id": "DRFPhThU-noB",
    "outputId": "10642921-d669-449b-9cd2-5c5dcfd8cf6b"
   },
   "outputs": [],
   "execution_count": null
  },
  {
   "cell_type": "markdown",
   "source": [
    "# Performance Evaluation and Interpretation"
   ],
   "metadata": {
    "id": "5AUksX-JCiu2"
   }
  },
  {
   "cell_type": "markdown",
   "source": [
    "Importing Accuracy score, confusion matrix and Classification report"
   ],
   "metadata": {
    "id": "sq02Q7fEHvCu"
   }
  },
  {
   "cell_type": "code",
   "source": [
    "from sklearn.metrics import accuracy_score, confusion_matrix, classification_report"
   ],
   "metadata": {
    "id": "kxJQqjfDCre4"
   },
   "outputs": [],
   "execution_count": null
  },
  {
   "cell_type": "markdown",
   "source": [
    "Calculating accuracy scores"
   ],
   "metadata": {
    "id": "Wi49OR8sH0rQ"
   }
  },
  {
   "cell_type": "code",
   "source": [
    "accuracy_score(y_test, y_pred)"
   ],
   "metadata": {
    "colab": {
     "base_uri": "https://localhost:8080/"
    },
    "id": "izVcgAiRDUQ7",
    "outputId": "5b06a998-26b9-4aba-9434-c86484e1087e"
   },
   "outputs": [],
   "execution_count": null
  },
  {
   "cell_type": "markdown",
   "source": [
    "View Confusion Matrix for test data and the predictions"
   ],
   "metadata": {
    "id": "GFu5PdUYH6rP"
   }
  },
  {
   "cell_type": "code",
   "source": [
    "confusion_matrix(y_test, y_pred, labels=[1, 0])"
   ],
   "metadata": {
    "colab": {
     "base_uri": "https://localhost:8080/"
    },
    "id": "EnLcy01YDYwO",
    "outputId": "e0c4b214-579a-445d-b9ea-92654aaf0d8c"
   },
   "outputs": [],
   "execution_count": null
  },
  {
   "cell_type": "markdown",
   "source": [
    "Printing the classification report for test data and the predictions"
   ],
   "metadata": {
    "id": "luxq_0yQIEoS"
   }
  },
  {
   "cell_type": "code",
   "source": [
    "print(classification_report(y_test, y_pred))"
   ],
   "metadata": {
    "colab": {
     "base_uri": "https://localhost:8080/"
    },
    "id": "n6IzKJdKDkJd",
    "outputId": "3dc753a2-06cb-47bf-b5bf-5a24f9da4915"
   },
   "outputs": [],
   "execution_count": null
  },
  {
   "cell_type": "code",
   "source": [
    "y_prob= rf.predict_proba((X_test))"
   ],
   "metadata": {
    "id": "9u8H8Gc_vUXt"
   },
   "outputs": [],
   "execution_count": null
  },
  {
   "cell_type": "code",
   "source": [
    "prob_1 = y_prob[::,1]"
   ],
   "metadata": {
    "id": "XwNlC3aDwsGP"
   },
   "outputs": [],
   "execution_count": null
  },
  {
   "cell_type": "code",
   "source": [
    "from sklearn import metrics\n",
    "fpr, tpr, _ = metrics.roc_curve(y_test,  prob_1)\n",
    "auc = metrics.roc_auc_score(y_test, prob_1)\n",
    "\n",
    "#create ROC curve\n",
    "plt.plot(fpr,tpr, label=\"AUC=\"+str(auc))\n",
    "plt.ylabel('Sensitivity')\n",
    "plt.xlabel('1-Specificity')\n",
    "plt.legend(loc=4)\n",
    "plt.show()\n"
   ],
   "metadata": {
    "colab": {
     "base_uri": "https://localhost:8080/",
     "height": 394
    },
    "id": "yekwsTyACfKI",
    "outputId": "7a70d22a-31e0-40d1-964a-c589913eb7d9"
   },
   "outputs": [],
   "execution_count": null
  }
 ]
}
